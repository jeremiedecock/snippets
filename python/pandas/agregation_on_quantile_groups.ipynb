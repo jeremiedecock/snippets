{
 "cells": [
  {
   "cell_type": "code",
   "execution_count": null,
   "id": "9336bb8d-b877-40ac-b295-b47c4182a6a9",
   "metadata": {},
   "outputs": [],
   "source": [
    "import numpy as np\n",
    "import pandas as pd"
   ]
  },
  {
   "cell_type": "markdown",
   "id": "05740433",
   "metadata": {},
   "source": [
    "# Example of a NumPy array"
   ]
  },
  {
   "cell_type": "code",
   "execution_count": null,
   "id": "f8daed0d-90fa-4bd4-9951-5688599608f3",
   "metadata": {},
   "outputs": [],
   "source": [
    "df = pd.DataFrame(np.random.rand(10000), columns=['x'])"
   ]
  },
  {
   "cell_type": "markdown",
   "id": "f9c5d597",
   "metadata": {},
   "source": [
    "# Define the quantile intervals"
   ]
  },
  {
   "cell_type": "code",
   "execution_count": null,
   "id": "447688a4-6ee5-45f2-808f-7aa184b6266d",
   "metadata": {},
   "outputs": [],
   "source": [
    "quantile_intervals = [0, 0.25, 0.5, 0.75, 1.0]"
   ]
  },
  {
   "cell_type": "markdown",
   "id": "78b2d2ed",
   "metadata": {},
   "source": [
    "# Use pd.qcut to create quantile groups"
   ]
  },
  {
   "cell_type": "code",
   "execution_count": null,
   "id": "9f1dead0-1236-479d-8387-8803276d8971",
   "metadata": {},
   "outputs": [],
   "source": [
    "df['quantile_group'] = pd.qcut(df['x'], q=quantile_intervals, labels=[\"0-25%\", \"25-50%\", \"50-75%\", \"75-100%\"])\n",
    "print(df)"
   ]
  },
  {
   "cell_type": "markdown",
   "id": "856517dd",
   "metadata": {},
   "source": [
    "# Aggregate data by quantile groups"
   ]
  },
  {
   "cell_type": "code",
   "execution_count": null,
   "id": "0dee56c2-b591-4f59-b9d6-90826c414352",
   "metadata": {},
   "outputs": [],
   "source": [
    "agg_result = df.groupby('quantile_group')['x'].agg(['mean', 'sum', 'count', 'min', 'max'])"
   ]
  },
  {
   "cell_type": "markdown",
   "id": "37bb0b1a",
   "metadata": {},
   "source": [
    "# Print results"
   ]
  },
  {
   "cell_type": "code",
   "execution_count": null,
   "id": "9cc18fb5-bb56-4b85-9830-b85c09ee089f",
   "metadata": {},
   "outputs": [],
   "source": [
    "print(agg_result)"
   ]
  },
  {
   "cell_type": "markdown",
   "id": "6b9ac8a6-536e-41f2-8b48-7e5c3fafbed9",
   "metadata": {},
   "source": [
    "# Check results"
   ]
  },
  {
   "cell_type": "code",
   "execution_count": null,
   "id": "b417e4d6-3fee-441c-9301-bd703328a2df",
   "metadata": {},
   "outputs": [],
   "source": [
    "quantile = df.x.quantile(0.25)\n",
    "print(quantile)"
   ]
  },
  {
   "cell_type": "code",
   "execution_count": null,
   "id": "a4dec8bd-9c8e-4c16-801b-79e4079db699",
   "metadata": {},
   "outputs": [],
   "source": [
    "df.loc[df.x <= quantile, [\"x\"]].mean()"
   ]
  },
  {
   "cell_type": "code",
   "execution_count": null,
   "id": "ff104608-9fe0-490f-bd22-7e850f145c28",
   "metadata": {},
   "outputs": [],
   "source": [
    "df.loc[df.x <= quantile, [\"x\"]].sum()"
   ]
  },
  {
   "cell_type": "code",
   "execution_count": null,
   "id": "42b77475-3ffb-4bf2-94a5-bbca5799d6c3",
   "metadata": {},
   "outputs": [],
   "source": [
    "df.loc[df.x <= quantile, [\"x\"]].count()"
   ]
  },
  {
   "cell_type": "code",
   "execution_count": null,
   "id": "0d91da67-40e3-4925-a980-a482eea53375",
   "metadata": {},
   "outputs": [],
   "source": [
    "df.loc[df.x <= quantile, [\"x\"]].min()"
   ]
  },
  {
   "cell_type": "code",
   "execution_count": null,
   "id": "56673cfa-5855-4fb0-9911-659c331f915e",
   "metadata": {},
   "outputs": [],
   "source": [
    "df.loc[df.x <= quantile, [\"x\"]].max()"
   ]
  }
 ],
 "metadata": {
  "kernelspec": {
   "display_name": "Python 3 (ipykernel)",
   "language": "python",
   "name": "python3"
  },
  "language_info": {
   "codemirror_mode": {
    "name": "ipython",
    "version": 3
   },
   "file_extension": ".py",
   "mimetype": "text/x-python",
   "name": "python",
   "nbconvert_exporter": "python",
   "pygments_lexer": "ipython3",
   "version": "3.8.10"
  }
 },
 "nbformat": 4,
 "nbformat_minor": 5
}
