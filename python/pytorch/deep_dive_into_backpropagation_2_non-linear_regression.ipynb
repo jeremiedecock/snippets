{
 "cells": [
  {
   "cell_type": "markdown",
   "metadata": {},
   "source": [
    "# Deep dive into backpropagation"
   ]
  },
  {
   "cell_type": "code",
   "execution_count": null,
   "metadata": {},
   "outputs": [],
   "source": [
    "import math\n",
    "import matplotlib.pyplot as plt\n",
    "\n",
    "# https://github.com/jeremiedecock/neural-network-figures.git\n",
    "import nnfigs\n",
    "import numpy as np\n",
    "\n",
    "import torch"
   ]
  },
  {
   "cell_type": "markdown",
   "metadata": {},
   "source": [
    "$\n",
    "\\newcommand{\\cur}{i}\n",
    "\\newcommand{\\prev}{j}\n",
    "\\newcommand{\\prevcur}{{\\cur\\prev}}\n",
    "\\newcommand{\\next}{k}\n",
    "\\newcommand{\\curnext}{{\\next\\cur}}\n",
    "\\newcommand{\\ex}{\\eta}\n",
    "\\newcommand{\\pot}{\\sigma}\n",
    "\\newcommand{\\feature}{x}\n",
    "\\newcommand{\\weight}{{\\boldsymbol{w}}}\n",
    "\\newcommand{\\wcur}{{\\weight_{\\cur\\prev}}}\n",
    "\\newcommand{\\activthres}{\\theta}\n",
    "\\newcommand{\\activfunc}{f}\n",
    "\\newcommand{\\errfunc}{E}\n",
    "\\newcommand{\\learnrate}{\\epsilon}\n",
    "\\newcommand{\\learnit}{n}\n",
    "\\newcommand{\\sigout}{{\\boldsymbol{y}}}\n",
    "\\newcommand{\\sigoutdes}{{\\boldsymbol{y^*}}}\n",
    "\\newcommand{\\weights}{\\boldsymbol{W}}\n",
    "\\newcommand{\\errsig}{\\Delta}\n",
    "$\n",
    "\n",
    "Notations:\n",
    "\n",
    "- $\\cur$: couche courante\n",
    "- $\\prev$: couche immédiatement en amont de la courche courrante (i.e. vers la couche d'entrée du réseau)\n",
    "- $\\next$: couche immédiatement en aval de la courche courrante (i.e. vers la couche de sortie du réseau)\n",
    "- $\\ex$: exemple (*sample* ou *feature*) courant (i.e. le vecteur des entrées courantes du réseau)\n",
    "- $\\pot_\\cur$: *Potentiel d'activation* du neurone $i$ pour l'exemple courant\n",
    "- $\\wcur$: Poids de la connexion entre le neurone $j$ et le neurone $i$\n",
    "- $\\activthres_\\cur$: *Seuil d'activation* du neurone $i$\n",
    "- $\\activfunc_\\cur$: *Fonction d'activation* du neurone $i$\n",
    "- $\\errfunc$: *Fonction objectif* ou *fonction d'erreur*\n",
    "- $\\learnrate$: *Pas d'apprentissage* ou *Taux d'apprentissage*\n",
    "- $\\learnit$: Numéro d'itération (ou cycle ou époque) du processus d'apprentissage\n",
    "- $\\sigout_\\cur$: Signal de sortie du neurone $i$ pour l'exemple courant\n",
    "- $\\sigoutdes_\\cur$: Sortie désirée (*étiquette*) du neurone $i$ pour l'exemple courant\n",
    "- $\\weights$: Matrice des poids du réseau (en réalité il y a une matrice de taille potentiellement différente par couche)\n",
    "- $\\errsig_i$: *Signal d'erreur* du neurone $i$ pour l'exemple courant"
   ]
  },
  {
   "cell_type": "code",
   "execution_count": null,
   "metadata": {},
   "outputs": [],
   "source": [
    "STR_CUR = r\"i\"       # Couche courante\n",
    "STR_PREV = r\"j\"      # Couche immédiatement en amont de la courche courrante (i.e. vers la couche d'entrée du réseau)\n",
    "STR_NEXT = r\"k\"      # Couche immédiatement en aval de la courche courrante (i.e. vers la couche de sortie du réseau)\n",
    "STR_EX = r\"\\eta\"     # Exemple (*sample* ou *feature*) courant (i.e. le vecteur des entrées courantes du réseau)\n",
    "STR_POT = r\"\\sigma\"       # *Potentiel d'activation* du neurone $i$ pour l'exemple $\\ex$\n",
    "STR_POT_CUR = r\"x_i\"       # *Potentiel d'activation* du neurone $i$ pour l'exemple $\\ex$\n",
    "STR_WEIGHT = r\"w\"\n",
    "STR_WEIGHT_CUR = r\"w_{ij}\"  # Poids de la connexion entre le neurone $j$ et le neurone $i$\n",
    "STR_ACTIVTHRES = r\"\\theta\"  # *Seuil d'activation* du neurone $i$\n",
    "STR_ACTIVFUNC = r\"f\"        # *Fonction d'activation* du neurone $i$\n",
    "STR_ERRFUNC = r\"E\"          # *Fonction objectif* ou *fonction d'erreur*\n",
    "STR_LEARNRATE = r\"\\epsilon\" # *Pas d'apprentissage* ou *Taux d'apprentissage*\n",
    "STR_LEARNIT = r\"n\"          # Numéro d'itération (ou cycle ou époque) du processus d'apprentissage\n",
    "STR_SIGIN = r\"x\"            # Signal de sortie du neurone $i$ pour l'exemple $\\ex$\n",
    "STR_SIGOUT = r\"y\"           # Signal de sortie du neurone $i$ pour l'exemple $\\ex$\n",
    "STR_SIGOUT_CUR = r\"y_i\"\n",
    "STR_SIGOUT_PREV = r\"y_j\"\n",
    "STR_SIGOUT_DES = r\"d\"           # Sortie désirée (*étiquette*) du neurone $i$ pour l'exemple $\\ex$\n",
    "STR_SIGOUT_DES_CUR = r\"d_i\"\n",
    "STR_WEIGHTS = r\"W\"              # Matrice des poids du réseau (en réalité il y a une matrice de taille potentiellement différente par couche)\n",
    "STR_ERRSIG = r\"\\Delta\"          # *Signal d'erreur* du neurone $i$ pour l'exemple $\\ex$\n",
    "\n",
    "def tex(tex_str):\n",
    "    return r\"$\" + tex_str + r\"$\""
   ]
  },
  {
   "cell_type": "code",
   "execution_count": null,
   "metadata": {},
   "outputs": [],
   "source": [
    "def display_nn(\n",
    "    hidden_list: list | None = None,\n",
    "    highlight_list: list | None = None,\n",
    "):\n",
    "    if hidden_list is None:\n",
    "        hidden_list = []\n",
    "\n",
    "    if highlight_list is None:\n",
    "        highlight_list = []\n",
    "\n",
    "    def color_str(name):\n",
    "        if name in hidden_list:\n",
    "            return \"lightgray\"\n",
    "        elif name in highlight_list:\n",
    "            return \"red\"\n",
    "        else:\n",
    "            return \"black\"\n",
    "\n",
    "    fig, ax = nnfigs.init_figure(size_x=8, size_y=4)\n",
    "\n",
    "    HSPACE = 6\n",
    "    VSPACE = 4\n",
    "\n",
    "    # Synapse #####################################\n",
    "\n",
    "    # Layer 1-2\n",
    "    nnfigs.draw_synapse(\n",
    "        ax, (0,  VSPACE), (HSPACE,  VSPACE),\n",
    "        label=\"\" if \"w1\" in hidden_list else tex(STR_WEIGHT + \"_1\"),\n",
    "        label_position=0.4,\n",
    "        label_color=color_str(\"w1\"),\n",
    "        color=color_str(\"w1\")\n",
    "    )\n",
    "    nnfigs.draw_synapse(\n",
    "        ax, (0, -VSPACE), (HSPACE,  VSPACE),\n",
    "        label=\"\" if \"w3\" in hidden_list else tex(STR_WEIGHT + \"_3\"),\n",
    "        label_position=0.25,\n",
    "        label_offset_y=-0.8,\n",
    "        label_color=color_str(\"w3\"),\n",
    "        color=color_str(\"w3\")\n",
    "    )\n",
    "\n",
    "    nnfigs.draw_synapse(\n",
    "        ax, (0,  VSPACE), (HSPACE, -VSPACE),\n",
    "        label=\"\" if \"w2\" in hidden_list else tex(STR_WEIGHT + \"_2\"),\n",
    "        label_position=0.25,\n",
    "        label_color=color_str(\"w2\"),\n",
    "        color=color_str(\"w2\")\n",
    "    )\n",
    "    nnfigs.draw_synapse(\n",
    "        ax, (0, -VSPACE), (HSPACE, -VSPACE),\n",
    "        label=\"\" if \"w4\" in hidden_list else tex(STR_WEIGHT + \"_4\"),\n",
    "        label_position=0.4,\n",
    "        label_offset_y=-0.8,\n",
    "        label_color=color_str(\"w4\"),\n",
    "        color=color_str(\"w4\")\n",
    "    )\n",
    "\n",
    "    # Layer 2-3\n",
    "    nnfigs.draw_synapse(\n",
    "        ax, (HSPACE,  VSPACE), (2*HSPACE,  VSPACE),\n",
    "        label=\"\" if \"w5\" in hidden_list else tex(STR_WEIGHT + \"_5\"),\n",
    "        label_position=0.4,\n",
    "        label_color=color_str(\"w5\"),\n",
    "        color=color_str(\"w5\")\n",
    "    )\n",
    "    nnfigs.draw_synapse(\n",
    "        ax, (HSPACE, -VSPACE), (2*HSPACE,  VSPACE),\n",
    "        label=\"\" if \"w7\" in hidden_list else tex(STR_WEIGHT + \"_7\"),\n",
    "        label_position=0.25,\n",
    "        label_offset_y=-0.8,\n",
    "        label_color=color_str(\"w7\"),\n",
    "        color=color_str(\"w7\")\n",
    "    )\n",
    "\n",
    "    nnfigs.draw_synapse(\n",
    "        ax, (HSPACE,  VSPACE), (2*HSPACE, -VSPACE),\n",
    "        label=\"\" if \"w6\" in hidden_list else tex(STR_WEIGHT + \"_6\"),\n",
    "        label_position=0.25,\n",
    "        label_color=color_str(\"w6\"),\n",
    "        color=color_str(\"w6\")\n",
    "    )\n",
    "    nnfigs.draw_synapse(\n",
    "        ax, (HSPACE, -VSPACE), (2*HSPACE, -VSPACE),\n",
    "        label=\"\" if \"w8\" in hidden_list else tex(STR_WEIGHT + \"_8\"),\n",
    "        label_position=0.4,\n",
    "        label_offset_y=-0.8,\n",
    "        label_color=color_str(\"w8\"),\n",
    "        color=color_str(\"w8\")\n",
    "    )\n",
    "\n",
    "    # Layer 3-4\n",
    "    nnfigs.draw_synapse(\n",
    "        ax, (2*HSPACE,  VSPACE), (3*HSPACE, 0),\n",
    "        label=\"\" if \"w9\" in hidden_list else tex(STR_WEIGHT + \"_9\"),\n",
    "        label_position=0.4,\n",
    "        label_color=color_str(\"w9\"),\n",
    "        color=color_str(\"w9\")\n",
    "    )\n",
    "    nnfigs.draw_synapse(\n",
    "        ax, (2*HSPACE, -VSPACE), (3*HSPACE, 0),\n",
    "        label=\"\" if \"w10\" in hidden_list else tex(STR_WEIGHT + \"_{10}\"),\n",
    "        label_position=0.4,\n",
    "        label_offset_y=-0.8,\n",
    "        label_color=color_str(\"w10\"),\n",
    "        color=color_str(\"w10\")\n",
    "    )\n",
    "\n",
    "    nnfigs.draw_synapse(ax, (3*HSPACE, 0), (3*HSPACE + 2, 0))\n",
    "\n",
    "    # Neuron ######################################\n",
    "\n",
    "    # Layer 1 (input)\n",
    "    nnfigs.draw_neuron(\n",
    "        ax,\n",
    "        (0,  VSPACE),\n",
    "        0.5,\n",
    "        empty=True,\n",
    "        line_color=color_str(\"x1\")\n",
    "    )\n",
    "    nnfigs.draw_neuron(\n",
    "        ax,\n",
    "        (0, -VSPACE),\n",
    "        0.5,\n",
    "        empty=True,\n",
    "        line_color=color_str(\"x2\")\n",
    "    )\n",
    "\n",
    "    # Layer 2\n",
    "    nnfigs.draw_neuron(\n",
    "        ax,\n",
    "        (HSPACE,  VSPACE),\n",
    "        1,\n",
    "        line_color=color_str(\"n1\"),\n",
    "        ag_func=tex(STR_POT + \"_1\"),\n",
    "        tr_func=tex(STR_SIGOUT + \"_1\"),\n",
    "        ag_func_color=color_str(\"s1\"),\n",
    "        tr_func_color=color_str(\"y1\")\n",
    "    )\n",
    "    nnfigs.draw_neuron(\n",
    "        ax,\n",
    "        (HSPACE, -VSPACE),\n",
    "        1,\n",
    "        line_color=color_str(\"n2\"),\n",
    "        ag_func=tex(STR_POT + \"_2\"),\n",
    "        tr_func=tex(STR_SIGOUT + \"_2\"),\n",
    "        ag_func_color=color_str(\"s2\"),\n",
    "        tr_func_color=color_str(\"y2\")\n",
    "    )\n",
    "\n",
    "    # Layer 3\n",
    "    nnfigs.draw_neuron(\n",
    "        ax,\n",
    "        (2*HSPACE,  VSPACE),\n",
    "        1,\n",
    "        line_color=color_str(\"n3\"),\n",
    "        ag_func=tex(STR_POT + \"_3\"),\n",
    "        tr_func=tex(STR_SIGOUT + \"_3\"),\n",
    "        ag_func_color=color_str(\"s3\"),\n",
    "        tr_func_color=color_str(\"y3\")\n",
    "    )\n",
    "    nnfigs.draw_neuron(\n",
    "        ax,\n",
    "        (2*HSPACE, -VSPACE),\n",
    "        1,\n",
    "        line_color=color_str(\"n4\"),\n",
    "        ag_func=tex(STR_POT + \"_4\"),\n",
    "        tr_func=tex(STR_SIGOUT + \"_4\"),\n",
    "        ag_func_color=color_str(\"s4\"),\n",
    "        tr_func_color=color_str(\"y4\")\n",
    "    )\n",
    "\n",
    "    # Layer 4\n",
    "    nnfigs.draw_neuron(\n",
    "        ax,\n",
    "        (3*HSPACE, 0),\n",
    "        1,\n",
    "        ag_func=tex(STR_POT + \"_o\"),\n",
    "        tr_func=tex(STR_SIGOUT + \"_o\"),\n",
    "        ag_func_color=color_str(\"so\"),\n",
    "        tr_func_color=color_str(\"yo\")\n",
    "    )\n",
    "\n",
    "    # Text ########################################\n",
    "\n",
    "    # Layer 1 (input)\n",
    "    #plt.text(x=0.5, y=VSPACE+1, s=tex(STR_SIGOUT + \"_i\"), fontsize=12)\n",
    "    if \"x1\" not in hidden_list:\n",
    "        plt.text(x=-1.7, y=VSPACE, s=tex(STR_SIGIN + \"_1\"), fontsize=12)\n",
    "    if \"x2\" not in hidden_list:\n",
    "        plt.text(x=-1.7, y=-VSPACE-0.2, s=tex(STR_SIGIN + \"_2\"), fontsize=12)\n",
    "\n",
    "    # # Layer 2\n",
    "    # #plt.text(x=HSPACE-1.25, y=VSPACE+1.5, s=tex(STR_POT + \"_1\"), fontsize=12)\n",
    "    # if \"y1\" not in hidden_list:\n",
    "    #     plt.text(x=HSPACE+0.4, y=VSPACE+1.5, s=tex(STR_SIGOUT + \"_1\"), fontsize=12)\n",
    "\n",
    "    # #plt.text(x=HSPACE-1.25, y=-VSPACE-1.8, s=tex(STR_POT + \"_2\"), fontsize=12)\n",
    "    # if \"y2\" not in hidden_list:\n",
    "    #     plt.text(x=HSPACE+0.4, y=-VSPACE-1.8, s=tex(STR_SIGOUT + \"_2\"), fontsize=12)\n",
    "\n",
    "    # # Layer 3\n",
    "    # #plt.text(x=2*HSPACE-1.25, y=VSPACE+1.5, s=tex(STR_POT + \"_3\"), fontsize=12)\n",
    "    # if \"y3\" not in hidden_list:\n",
    "    #     plt.text(x=2*HSPACE+0.4, y=VSPACE+1.5, s=tex(STR_SIGOUT + \"_3\"), fontsize=12)\n",
    "\n",
    "    # #plt.text(x=2*HSPACE-1.25, y=-VSPACE-1.8, s=tex(STR_POT + \"_4\"), fontsize=12)\n",
    "    # if \"y4\" not in hidden_list:\n",
    "    #     plt.text(x=2*HSPACE+0.4, y=-VSPACE-1.8, s=tex(STR_SIGOUT + \"_4\"), fontsize=12)\n",
    "\n",
    "    # Layer 4\n",
    "    #plt.text(x=3*HSPACE-1.25, y=1.5, s=tex(STR_POT + \"_o\"), fontsize=12)\n",
    "    #plt.text(x=3*HSPACE+0.4,  y=1.5, s=tex(STR_SIGOUT + \"_o\"), fontsize=12)\n",
    "\n",
    "\n",
    "    # plt.text(\n",
    "    #     x=3*HSPACE-0.3,\n",
    "    #     y=-1.8,\n",
    "    #     s=tex(STR_POT),\n",
    "    #     fontsize=12\n",
    "    # )\n",
    "    # plt.text(\n",
    "    #     x=3*HSPACE+2.5,\n",
    "    #     y=-0.3,\n",
    "    #     s=tex(STR_SIGOUT),\n",
    "    #     fontsize=12\n",
    "    # )\n",
    "\n",
    "    plt.show()\n",
    "\n",
    "\n",
    "# display_nn(\n",
    "#     hidden_list=[\"w1\", \"y1\", \"s2\", \"y3\"],\n",
    "#     highlight_list=[\"w3\", \"s4\"]\n",
    "# )"
   ]
  },
  {
   "cell_type": "markdown",
   "metadata": {},
   "source": [
    "## Make the model in PyTorch"
   ]
  },
  {
   "cell_type": "markdown",
   "metadata": {},
   "source": [
    "**Remark**: The model is a simple feedforward neural network with two hidden layers. To simplify computations, we don't use any bias."
   ]
  },
  {
   "cell_type": "code",
   "execution_count": null,
   "metadata": {},
   "outputs": [],
   "source": [
    "model = torch.nn.Sequential(\n",
    "    torch.nn.Linear(2, 2, bias=False),\n",
    "    torch.nn.Tanh(),\n",
    "    torch.nn.Linear(2, 2, bias=False),\n",
    "    torch.nn.Tanh(),\n",
    "    torch.nn.Linear(2, 1, bias=False)\n",
    ")\n",
    "model.state_dict() # print the weights and biases of the model"
   ]
  },
  {
   "cell_type": "code",
   "execution_count": null,
   "metadata": {},
   "outputs": [],
   "source": [
    "x = torch.randn(2)\n",
    "x"
   ]
  },
  {
   "cell_type": "code",
   "execution_count": null,
   "metadata": {},
   "outputs": [],
   "source": [
    "y_true = torch.randn(1)\n",
    "y_true"
   ]
  },
  {
   "cell_type": "code",
   "execution_count": null,
   "metadata": {},
   "outputs": [],
   "source": [
    "loss_fn = torch.nn.MSELoss()"
   ]
  },
  {
   "cell_type": "markdown",
   "metadata": {},
   "source": [
    "## Compute the forward pass"
   ]
  },
  {
   "cell_type": "code",
   "execution_count": null,
   "metadata": {},
   "outputs": [],
   "source": [
    "display_nn()"
   ]
  },
  {
   "cell_type": "markdown",
   "metadata": {},
   "source": [
    "$\n",
    "\\newcommand{\\yone}{\\underbrace{\\activfunc   \\left( \\overbrace{\\weight_1 \\feature_1 + \\weight_3 \\feature_2}^{\\pot_1} \\right)}_{\\sigout_1}}\n",
    "\\newcommand{\\ytwo}{\\underbrace{\\activfunc   \\left( \\overbrace{\\weight_2 \\feature_1 + \\weight_4 \\feature_2}^{\\pot_2} \\right)}_{\\sigout_2}}\n",
    "\\newcommand{\\ythree}{\\underbrace{\\activfunc \\left( \\overbrace{\\weight_5 \\yone + \\weight_7 \\ytwo}^{\\pot_3} \\right)}_{\\sigout_3}}\n",
    "\\newcommand{\\yfour}{\\underbrace{\\activfunc  \\left( \\overbrace{\\weight_6 \\yone + \\weight_8 \\ytwo}^{\\pot_4} \\right)}_{\\sigout_4}}\n",
    "$\n",
    "\n",
    "$$\n",
    "\\sigout_o =\n",
    "\\activfunc \\left(\n",
    "\\overbrace{\n",
    " \\weight_9 ~ \\ythree\n",
    " +\n",
    " \\weight_{10} ~ \\yfour\n",
    "}^{\\pot_o}\n",
    "\\right)\n",
    "$$"
   ]
  },
  {
   "cell_type": "code",
   "execution_count": null,
   "metadata": {},
   "outputs": [],
   "source": [
    "x1 = x[0].item()\n",
    "x2 = x[1].item()\n",
    "\n",
    "w1 = model[0].weight[0, 0].item()\n",
    "w2 = model[0].weight[1, 0].item()\n",
    "w3 = model[0].weight[0, 1].item()\n",
    "w4 = model[0].weight[1, 1].item()\n",
    "\n",
    "w5 = model[2].weight[0, 0].item()\n",
    "w6 = model[2].weight[1, 0].item()\n",
    "w7 = model[2].weight[0, 1].item()\n",
    "w8 = model[2].weight[1, 1].item()\n",
    "\n",
    "w9 = model[4].weight[0, 0].item()\n",
    "w10 = model[4].weight[0, 1].item()\n",
    "\n",
    "# f = torch.nn.functional.tanh\n",
    "f = math.tanh\n",
    "\n",
    "def df(x):\n",
    "    \"\"\"Derivative of the tanh function\n",
    "    $\\tanh '= \\frac{1}{\\cosh^{2}} = 1-\\tanh^{2}$\n",
    "    \"\"\"\n",
    "    y = 1. - math.tanh(x) ** 2\n",
    "    return y"
   ]
  },
  {
   "cell_type": "code",
   "execution_count": null,
   "metadata": {},
   "outputs": [],
   "source": [
    "sigma1 = w1 * x1 + w3 * x2  # (x @ model[0].weight)[0].item()\n",
    "y1 = f(sigma1)              # torch.nn.functional.tanh(x @ model[0].weight)[0]\n",
    "\n",
    "sigma2 = w2 * x1 + w4 * x2  # (x @ model[0].weight)[1]\n",
    "y2 = f(sigma2)              # torch.nn.functional.tanh(x @ model[0].weight)[1]\n",
    "\n",
    "sigma3 = w5 * y1 + w7 * y2  # (torch.nn.functional.tanh(x @ model[0].weight) @ model[2].weight)[0]\n",
    "y3 = f(sigma3)              # torch.nn.functional.tanh(torch.nn.functional.tanh(x @ model[0].weight) @ model[2].weight)[0].item()\n",
    "\n",
    "sigma4 = w6 * y1 + w8 * y2  # (torch.nn.functional.tanh(x @ model[0].weight) @ model[2].weight)[1].item()\n",
    "y4 = f(sigma4)              # torch.nn.functional.tanh(torch.nn.functional.tanh(x @ model[0].weight) @ model[2].weight)[1].item()\n",
    "\n",
    "sigma = w9 * y3 + w10 * y4  # (torch.nn.functional.tanh(torch.nn.functional.tanh(x @ model[0].weight) @ model[2].weight) @ model[4].weight.T)[0].item()\n",
    "y_pred = sigma              # torch.nn.functional.tanh(torch.nn.functional.tanh(x @ model[0].weight) @ model[2].weight) @ model[4].weight.T\n",
    "\n",
    "y_pred"
   ]
  },
  {
   "cell_type": "code",
   "execution_count": null,
   "metadata": {},
   "outputs": [],
   "source": [
    "# The loss is the mean squared error between the predicted and true values\n",
    "(y_pred - y_true)**2"
   ]
  },
  {
   "cell_type": "markdown",
   "metadata": {},
   "source": [
    "### Let's check with PyTorch"
   ]
  },
  {
   "cell_type": "code",
   "execution_count": null,
   "metadata": {},
   "outputs": [],
   "source": [
    "y_pred = model(x)\n",
    "y_pred"
   ]
  },
  {
   "cell_type": "code",
   "execution_count": null,
   "metadata": {},
   "outputs": [],
   "source": [
    "error = loss_fn(y_pred, y_true)\n",
    "error"
   ]
  },
  {
   "cell_type": "markdown",
   "metadata": {},
   "source": [
    "## Compute the backward pass"
   ]
  },
  {
   "cell_type": "markdown",
   "metadata": {},
   "source": [
    "### Backward computation of $\\frac{\\partial \\errfunc}{\\partial \\weight_{10}}$"
   ]
  },
  {
   "cell_type": "code",
   "execution_count": null,
   "metadata": {},
   "outputs": [],
   "source": [
    "display_nn(\n",
    "    hidden_list=[\"x1\", \"x2\", \"y1\", \"y2\", \"y3\", \"s1\", \"s2\", \"s3\", \"s4\", \"n1\", \"n2\", \"n3\", \"w1\", \"w2\", \"w3\", \"w4\", \"w5\", \"w6\", \"w7\", \"w8\", \"w9\"],\n",
    "    highlight_list=[\"w10\"]\n",
    ")"
   ]
  },
  {
   "cell_type": "markdown",
   "metadata": {},
   "source": [
    "$$\n",
    "\\sigout_o =\n",
    "\\activfunc \\left(\n",
    "\\overbrace{\n",
    " \\weight_9 ~ \\ythree\n",
    " +\n",
    " \\weight_{10} ~ \\yfour\n",
    "}^{\\pot_o}\n",
    "\\right)\n",
    "$$"
   ]
  },
  {
   "cell_type": "markdown",
   "metadata": {},
   "source": [
    "Using the chain rule:\n",
    "\n",
    "$$\n",
    "\\frac{\\partial \\errfunc}{\\partial \\color{red}{\\weight_{10}}}\n",
    "=\n",
    "\\underbrace{\n",
    " \\frac{\\partial \\errfunc}{\\partial \\color{orange}{\\sigout_o}}\n",
    " \\frac{\\partial \\color{orange}{\\sigout_o}}{\\partial \\color{green}{\\pot_o}} ~\n",
    "}_{\\errsig_o}\n",
    "\\frac{\\partial \\color{green}{\\pot_o}}{\\partial \\color{red}{\\weight_{10}}}\n",
    "=\n",
    "\\errsig_o\n",
    "\\frac{\\partial \\color{green}{\\pot_o}}{\\partial \\color{red}{\\weight_{10}}}\n",
    "$$\n",
    "\n",
    "knowing that:\n",
    "\n",
    "$$\n",
    "\\begin{align}\n",
    "\\frac{\\partial \\errfunc}{\\partial \\color{orange}{\\sigout_o}}              &= 2 (\\sigout_o - \\sigoutdes) \\\\\n",
    "\\frac{\\partial \\color{orange}{\\sigout_o}}{\\partial \\color{green}{\\pot_o}}   &= f'(\\pot_o) = 1 \\\\\n",
    "\\frac{\\partial \\color{green}{\\pot_o}}{\\partial \\color{red}{\\weight_{10}}}           &= \\sigout_4 \\\\\n",
    "\\end{align}\n",
    "$$\n",
    "\n",
    "we can write:\n",
    "\n",
    "$$\n",
    "\\frac{\\partial \\errfunc}{\\partial \\color{red}{\\weight_{10}}} = 2(\\sigout_o - \\sigoutdes) \\cdot f'(\\pot_o) \\cdot \\sigout_4 = 2(\\sigout_o - \\sigoutdes) \\cdot \\sigout_4\n",
    "$$"
   ]
  },
  {
   "cell_type": "markdown",
   "metadata": {},
   "source": [
    "#### Naive detailed computation"
   ]
  },
  {
   "cell_type": "markdown",
   "metadata": {},
   "source": [
    "Let's write the forward computation in a (naive) detailed way."
   ]
  },
  {
   "cell_type": "code",
   "execution_count": null,
   "metadata": {},
   "outputs": [],
   "source": [
    "grad_E_w10 = 2 * (y_pred - y_true) * y4\n",
    "grad_E_w10"
   ]
  },
  {
   "cell_type": "markdown",
   "metadata": {},
   "source": [
    "#### Algebraic computation"
   ]
  },
  {
   "cell_type": "markdown",
   "metadata": {},
   "source": [
    "Let's rewrite the forward computation in a less naive way (using linear algebra)."
   ]
  },
  {
   "cell_type": "markdown",
   "metadata": {},
   "source": [
    "TODO..."
   ]
  },
  {
   "cell_type": "code",
   "execution_count": null,
   "metadata": {},
   "outputs": [],
   "source": [
    "# f = torch.nn.functional.tanh\n",
    "\n",
    "# h1 = f(x[0] @ model.weight_ih_l0 + h0 @ model.weight_hh_l0)   # hidden state at time step 1\n",
    "# h2 = f(x[1] @ model.weight_ih_l0 + h1 @ model.weight_hh_l0)   # hidden state at time step 2\n",
    "# h3 = f(x[2] @ model.weight_ih_l0 + h2 @ model.weight_hh_l0)   # hidden state at time step 3\n",
    "\n",
    "# print(f\"Output for time step 1:\\nh1 = \\n{ h1 }\\n\\n\")\n",
    "# print(f\"Output for time step 2:\\nh2 = \\n{ h2 }\\n\\n\")\n",
    "# print(f\"Output for time step 3:\\nh3 = \\n{ h3 }\\n\\n\")"
   ]
  },
  {
   "cell_type": "markdown",
   "metadata": {},
   "source": [
    "### Backward computation of $\\frac{\\partial \\errfunc}{\\partial \\weight_9}$"
   ]
  },
  {
   "cell_type": "code",
   "execution_count": null,
   "metadata": {},
   "outputs": [],
   "source": [
    "display_nn(\n",
    "    hidden_list=[\"x1\", \"x2\", \"y1\", \"y2\", \"y4\", \"s1\", \"s2\", \"s3\", \"s4\", \"n1\", \"n2\", \"n4\", \"w1\", \"w2\", \"w3\", \"w4\", \"w5\", \"w6\", \"w7\", \"w8\", \"w10\"],\n",
    "    highlight_list=[\"w9\"]\n",
    ")"
   ]
  },
  {
   "cell_type": "markdown",
   "metadata": {},
   "source": [
    "$$\n",
    "\\sigout_o =\n",
    "\\activfunc \\left(\n",
    "\\overbrace{\n",
    " \\weight_9 ~ \\ythree\n",
    " +\n",
    " \\weight_{10} ~ \\yfour\n",
    "}^{\\pot_o}\n",
    "\\right)\n",
    "$$"
   ]
  },
  {
   "cell_type": "markdown",
   "metadata": {},
   "source": [
    "Using the chain rule:\n",
    "\n",
    "$$\n",
    "\\frac{\\partial \\errfunc}{\\partial \\color{red}{\\weight_9}}\n",
    "=\n",
    "\\underbrace{\n",
    " \\frac{\\partial \\errfunc}{\\partial \\color{orange}{\\sigout_o}}\n",
    " \\frac{\\partial \\color{orange}{\\sigout_o}}{\\partial \\color{green}{\\pot_o}} ~\n",
    "}_{\\errsig_o}\n",
    "\\frac{\\partial \\color{green}{\\pot_o}}{\\partial \\color{red}{\\weight_9}}\n",
    "=\n",
    "\\errsig_o\n",
    "\\frac{\\partial \\color{green}{\\pot_o}}{\\partial \\color{red}{\\weight_9}}\n",
    "$$\n",
    "\n",
    "knowing that:\n",
    "\n",
    "$$\n",
    "\\begin{align}\n",
    "\\frac{\\partial \\errfunc}{\\partial \\color{orange}{\\sigout_o}}              &= 2 (\\sigout_o - \\sigoutdes) \\\\\n",
    "\\frac{\\partial \\color{orange}{\\sigout_o}}{\\partial \\color{green}{\\pot_o}}   &= f'(\\pot_o) = 1 \\\\\n",
    "\\frac{\\partial \\color{green}{\\pot_o}}{\\partial \\weight_9}           &= \\sigout_3 \\\\\n",
    "\\end{align}\n",
    "$$\n",
    "\n",
    "we can write:\n",
    "\n",
    "$$\n",
    "\\frac{\\partial \\errfunc}{\\partial \\weight_9} = 2(\\sigout_o - \\sigoutdes) \\cdot f'(\\pot_o) \\cdot \\sigout_3 = 2(\\sigout_o - \\sigoutdes) \\cdot \\sigout_3\n",
    "$$"
   ]
  },
  {
   "cell_type": "markdown",
   "metadata": {},
   "source": [
    "#### Naive detailed computation"
   ]
  },
  {
   "cell_type": "markdown",
   "metadata": {},
   "source": [
    "Let's write the forward computation in a (naive) detailed way."
   ]
  },
  {
   "cell_type": "code",
   "execution_count": null,
   "metadata": {},
   "outputs": [],
   "source": [
    "grad_E_w9 = 2 * (y_pred - y_true) * y3\n",
    "grad_E_w9"
   ]
  },
  {
   "cell_type": "markdown",
   "metadata": {},
   "source": [
    "#### Algebraic computation"
   ]
  },
  {
   "cell_type": "markdown",
   "metadata": {},
   "source": [
    "Let's rewrite the forward computation in a less naive way (using linear algebra)."
   ]
  },
  {
   "cell_type": "markdown",
   "metadata": {},
   "source": [
    "TODO..."
   ]
  },
  {
   "cell_type": "markdown",
   "metadata": {},
   "source": [
    "### Backward computation of $\\frac{\\partial \\errfunc}{\\partial \\weight_8}$"
   ]
  },
  {
   "cell_type": "code",
   "execution_count": null,
   "metadata": {},
   "outputs": [],
   "source": [
    "display_nn(\n",
    "    hidden_list=[\"x1\", \"x2\", \"y1\", \"y3\", \"s1\", \"s2\", \"s3\", \"n1\", \"n3\", \"w1\", \"w2\", \"w3\", \"w4\", \"w5\", \"w6\", \"w7\", \"w9\"],\n",
    "    highlight_list=[\"w8\"]\n",
    ")"
   ]
  },
  {
   "cell_type": "markdown",
   "metadata": {},
   "source": [
    "$$\n",
    "\\sigout_o =\n",
    "\\activfunc \\left(\n",
    "\\overbrace{\n",
    " \\weight_9 ~ \\ythree\n",
    " +\n",
    " \\weight_{10} ~ \\yfour\n",
    "}^{\\pot_o}\n",
    "\\right)\n",
    "$$"
   ]
  },
  {
   "cell_type": "markdown",
   "metadata": {},
   "source": [
    "Using the chain rule:\n",
    "\n",
    "$$\n",
    "\\frac{\\partial \\errfunc}{\\partial \\color{red}{\\weight_8}}\n",
    "=\n",
    "\\underbrace{\n",
    " \\underbrace{\n",
    "  \\frac{\\partial \\errfunc}{\\partial \\sigout_o}\n",
    "  \\frac{\\partial \\sigout_o}{\\partial \\pot_o} ~\n",
    " }_{\\errsig_o}\n",
    " \\frac{\\partial \\pot_o}{\\partial \\sigout_4} ~\n",
    " \\frac{\\partial \\sigout_4}{\\partial \\pot_4} ~\n",
    "}_{\\errsig_4}\n",
    "\\frac{\\partial \\pot_4}{\\partial \\color{red}{\\weight_8}}\n",
    "=\n",
    "\\errsig_4\n",
    "\\frac{\\partial \\pot_4}{\\partial \\color{red}{\\weight_8}}\n",
    "$$"
   ]
  },
  {
   "cell_type": "markdown",
   "metadata": {},
   "source": [
    "knowing that:\n",
    "\n",
    "$$\n",
    "\\begin{align}\n",
    "\\frac{\\partial \\errfunc}{\\partial \\sigout_o} &= 2 (\\sigout_o - \\sigoutdes) \\\\\n",
    "\\frac{\\partial \\sigout_o}{\\partial \\pot_o}   &= f'(\\pot_o) = 1 \\\\\n",
    "\\frac{\\partial \\pot_o}{\\partial \\sigout_4}   &= \\weight_{10} \\\\\n",
    "\\frac{\\partial \\sigout_4}{\\partial \\pot_4}   &= f'(\\pot_4) \\\\\n",
    "\\frac{\\partial \\pot_4}{\\partial \\weight_8}   &= \\sigout_2 \\\\\n",
    "\\end{align}\n",
    "$$"
   ]
  },
  {
   "cell_type": "markdown",
   "metadata": {},
   "source": [
    "we can write:\n",
    "\n",
    "$$\n",
    "\\frac{\\partial \\errfunc}{\\partial \\weight_8} = 2(\\sigout_o - \\sigoutdes) \\cdot \\weight_{10} \\cdot f'(\\pot_4) \\cdot \\sigout_2\n",
    "$$"
   ]
  },
  {
   "cell_type": "markdown",
   "metadata": {},
   "source": [
    "#### Naive detailed computation"
   ]
  },
  {
   "cell_type": "markdown",
   "metadata": {},
   "source": [
    "Let's write the forward computation in a (naive) detailed way."
   ]
  },
  {
   "cell_type": "code",
   "execution_count": null,
   "metadata": {},
   "outputs": [],
   "source": [
    "grad_E_w8 = 2 * (y_pred - y_true) * w10 * df(sigma4) * y2\n",
    "grad_E_w8"
   ]
  },
  {
   "cell_type": "markdown",
   "metadata": {},
   "source": [
    "#### Algebraic computation"
   ]
  },
  {
   "cell_type": "markdown",
   "metadata": {},
   "source": [
    "Let's rewrite the forward computation in a less naive way (using linear algebra)."
   ]
  },
  {
   "cell_type": "markdown",
   "metadata": {},
   "source": [
    "TODO..."
   ]
  },
  {
   "cell_type": "markdown",
   "metadata": {},
   "source": [
    "### Backward computation of $\\frac{\\partial \\errfunc}{\\partial \\weight_7}$"
   ]
  },
  {
   "cell_type": "code",
   "execution_count": null,
   "metadata": {},
   "outputs": [],
   "source": [
    "display_nn(\n",
    "    hidden_list=[\"x1\", \"x2\", \"y1\", \"y4\", \"s1\", \"s2\", \"s4\", \"n1\", \"n4\", \"w1\", \"w2\", \"w3\", \"w4\", \"w5\", \"w6\", \"w8\", \"w10\"],\n",
    "    highlight_list=[\"w7\"]\n",
    ")"
   ]
  },
  {
   "cell_type": "markdown",
   "metadata": {},
   "source": [
    "$$\n",
    "\\sigout_o =\n",
    "\\activfunc \\left(\n",
    "\\overbrace{\n",
    " \\weight_9 ~ \\ythree\n",
    " +\n",
    " \\weight_{10} ~ \\yfour\n",
    "}^{\\pot_o}\n",
    "\\right)\n",
    "$$"
   ]
  },
  {
   "cell_type": "markdown",
   "metadata": {},
   "source": [
    "Using the chain rule:\n",
    "\n",
    "$$\n",
    "\\frac{\\partial \\errfunc}{\\partial \\color{red}{\\weight_7}}\n",
    "=\n",
    "\\underbrace{\n",
    " \\underbrace{\n",
    "  \\frac{\\partial \\errfunc}{\\partial \\sigout_o}\n",
    "  \\frac{\\partial \\sigout_o}{\\partial \\pot_o} ~\n",
    " }_{\\errsig_o}\n",
    " \\frac{\\partial \\pot_o}{\\partial \\sigout_3} ~\n",
    " \\frac{\\partial \\sigout_3}{\\partial \\pot_3} ~\n",
    "}_{\\errsig_3}\n",
    "\\frac{\\partial \\pot_3}{\\partial \\color{red}{\\weight_7}}\n",
    "=\n",
    "\\errsig_3\n",
    "\\frac{\\partial \\pot_3}{\\partial \\color{red}{\\weight_7}}\n",
    "$$"
   ]
  },
  {
   "cell_type": "markdown",
   "metadata": {},
   "source": [
    "knowing that:\n",
    "\n",
    "$$\n",
    "\\begin{align}\n",
    "\\frac{\\partial \\errfunc}{\\partial \\sigout_o} &= 2 (\\sigout_o - \\sigoutdes) \\\\\n",
    "\\frac{\\partial \\sigout_o}{\\partial \\pot_o}   &= f'(\\pot_o) = 1 \\\\\n",
    "\\frac{\\partial \\pot_o}{\\partial \\sigout_3}   &= \\weight_9 \\\\\n",
    "\\frac{\\partial \\sigout_3}{\\partial \\pot_3}   &= f'(\\pot_3) \\\\\n",
    "\\frac{\\partial \\pot_3}{\\partial \\color{red}{\\weight_7}}   &= \\sigout_2 \\\\\n",
    "\\end{align}\n",
    "$$"
   ]
  },
  {
   "cell_type": "markdown",
   "metadata": {},
   "source": [
    "we can write:\n",
    "\n",
    "$$\n",
    "\\frac{\\partial \\errfunc}{\\partial \\weight_8}\n",
    "=\n",
    "2(\\sigout_o - \\sigoutdes) \\cdot\n",
    "\\weight_9 \\cdot\n",
    "f'(\\pot_3) \\cdot\n",
    "\\sigout_2\n",
    "$$"
   ]
  },
  {
   "cell_type": "markdown",
   "metadata": {},
   "source": [
    "#### Naive detailed computation"
   ]
  },
  {
   "cell_type": "markdown",
   "metadata": {},
   "source": [
    "Let's write the forward computation in a (naive) detailed way."
   ]
  },
  {
   "cell_type": "code",
   "execution_count": null,
   "metadata": {},
   "outputs": [],
   "source": [
    "grad_E_w7 = 2 * (y_pred - y_true) * w9 * df(sigma3) * y2\n",
    "grad_E_w7"
   ]
  },
  {
   "cell_type": "markdown",
   "metadata": {},
   "source": [
    "#### Algebraic computation"
   ]
  },
  {
   "cell_type": "markdown",
   "metadata": {},
   "source": [
    "Let's rewrite the forward computation in a less naive way (using linear algebra)."
   ]
  },
  {
   "cell_type": "markdown",
   "metadata": {},
   "source": [
    "TODO..."
   ]
  },
  {
   "cell_type": "markdown",
   "metadata": {},
   "source": [
    "### Backward computation of $\\frac{\\partial \\errfunc}{\\partial \\weight_6}$"
   ]
  },
  {
   "cell_type": "code",
   "execution_count": null,
   "metadata": {},
   "outputs": [],
   "source": [
    "display_nn(\n",
    "    hidden_list=[\"x1\", \"x2\", \"y2\", \"y3\", \"s1\", \"s2\", \"s3\", \"n3\", \"n2\", \"w1\", \"w2\", \"w3\", \"w4\", \"w5\", \"w8\", \"w7\", \"w9\"],\n",
    "    highlight_list=[\"w6\"]\n",
    ")"
   ]
  },
  {
   "cell_type": "markdown",
   "metadata": {},
   "source": [
    "$$\n",
    "\\sigout_o =\n",
    "\\activfunc \\left(\n",
    "\\overbrace{\n",
    " \\weight_9 ~ \\ythree\n",
    " +\n",
    " \\weight_{10} ~ \\yfour\n",
    "}^{\\pot_o}\n",
    "\\right)\n",
    "$$"
   ]
  },
  {
   "cell_type": "markdown",
   "metadata": {},
   "source": [
    "Using the chain rule:\n",
    "\n",
    "$$\n",
    "\\frac{\\partial \\errfunc}{\\partial \\color{red}{\\weight_6}}\n",
    "=\n",
    "\\underbrace{\n",
    " \\underbrace{\n",
    "  \\frac{\\partial \\errfunc}{\\partial \\sigout_o}\n",
    "  \\frac{\\partial \\sigout_o}{\\partial \\pot_o} ~\n",
    " }_{\\errsig_o}\n",
    " \\frac{\\partial \\pot_o}{\\partial \\sigout_4} ~\n",
    " \\frac{\\partial \\sigout_4}{\\partial \\pot_4} ~\n",
    "}_{\\errsig_4}\n",
    "\\frac{\\partial \\pot_4}{\\partial \\color{red}{\\weight_6}}\n",
    "=\n",
    "\\errsig_4\n",
    "\\frac{\\partial \\pot_4}{\\partial \\color{red}{\\weight_6}}\n",
    "$$"
   ]
  },
  {
   "cell_type": "markdown",
   "metadata": {},
   "source": [
    "knowing that:\n",
    "\n",
    "$$\n",
    "\\begin{align}\n",
    "\\frac{\\partial \\errfunc}{\\partial \\sigout_o} &= 2 (\\sigout_o - \\sigoutdes) \\\\\n",
    "\\frac{\\partial \\sigout_o}{\\partial \\pot_o}   &= f'(\\pot_o) = 1 \\\\\n",
    "\\frac{\\partial \\pot_o}{\\partial \\sigout_4}   &= \\weight_{10} \\\\\n",
    "\\frac{\\partial \\sigout_4}{\\partial \\pot_4}   &= f'(\\pot_4) \\\\\n",
    "\\frac{\\partial \\pot_4}{\\partial \\color{red}{\\weight_6}}   &= \\sigout_1 \\\\\n",
    "\\end{align}\n",
    "$$"
   ]
  },
  {
   "cell_type": "markdown",
   "metadata": {},
   "source": [
    "we can write:\n",
    "\n",
    "$$\n",
    "\\frac{\\partial \\errfunc}{\\partial \\weight_8}\n",
    "=\n",
    "2(\\sigout_o - \\sigoutdes) \\cdot\n",
    "\\weight_{10} \\cdot\n",
    "f'(\\pot_4) \\cdot\n",
    "\\sigout_1\n",
    "$$"
   ]
  },
  {
   "cell_type": "markdown",
   "metadata": {},
   "source": [
    "#### Naive detailed computation"
   ]
  },
  {
   "cell_type": "markdown",
   "metadata": {},
   "source": [
    "Let's write the forward computation in a (naive) detailed way."
   ]
  },
  {
   "cell_type": "code",
   "execution_count": null,
   "metadata": {},
   "outputs": [],
   "source": [
    "grad_E_w6 = 2 * (y_pred - y_true) * w10 * df(sigma4) * y1\n",
    "grad_E_w6"
   ]
  },
  {
   "cell_type": "markdown",
   "metadata": {},
   "source": [
    "#### Algebraic computation"
   ]
  },
  {
   "cell_type": "markdown",
   "metadata": {},
   "source": [
    "Let's rewrite the forward computation in a less naive way (using linear algebra)."
   ]
  },
  {
   "cell_type": "markdown",
   "metadata": {},
   "source": [
    "TODO..."
   ]
  },
  {
   "cell_type": "markdown",
   "metadata": {},
   "source": [
    "### Backward computation of $\\frac{\\partial \\errfunc}{\\partial \\weight_5}$"
   ]
  },
  {
   "cell_type": "code",
   "execution_count": null,
   "metadata": {},
   "outputs": [],
   "source": [
    "display_nn(\n",
    "    hidden_list=[\"x1\", \"x2\", \"y2\", \"y4\", \"s1\", \"s2\", \"s4\", \"n2\", \"n4\", \"w1\", \"w2\", \"w3\", \"w4\", \"w8\", \"w6\", \"w7\", \"w10\"],\n",
    "    highlight_list=[\"w5\"]\n",
    ")"
   ]
  },
  {
   "cell_type": "markdown",
   "metadata": {},
   "source": [
    "$$\n",
    "\\sigout_o =\n",
    "\\activfunc \\left(\n",
    "\\overbrace{\n",
    " \\weight_9 ~ \\ythree\n",
    " +\n",
    " \\weight_{10} ~ \\yfour\n",
    "}^{\\pot_o}\n",
    "\\right)\n",
    "$$"
   ]
  },
  {
   "cell_type": "markdown",
   "metadata": {},
   "source": [
    "Using the chain rule:\n",
    "\n",
    "$$\n",
    "\\frac{\\partial \\errfunc}{\\partial \\color{red}{\\weight_5}}\n",
    "=\n",
    "\\underbrace{\n",
    " \\underbrace{\n",
    "  \\frac{\\partial \\errfunc}{\\partial \\sigout_o}\n",
    "  \\frac{\\partial \\sigout_o}{\\partial \\pot_o} ~\n",
    " }_{\\errsig_o}\n",
    " \\frac{\\partial \\pot_o}{\\partial \\sigout_3} ~\n",
    " \\frac{\\partial \\sigout_3}{\\partial \\pot_3} ~\n",
    "}_{\\errsig_3}\n",
    "\\frac{\\partial \\pot_3}{\\partial \\color{red}{\\weight_5}}\n",
    "=\n",
    "\\errsig_3\n",
    "\\frac{\\partial \\pot_3}{\\partial \\color{red}{\\weight_5}}\n",
    "$$"
   ]
  },
  {
   "cell_type": "markdown",
   "metadata": {},
   "source": [
    "knowing that:\n",
    "\n",
    "$$\n",
    "\\begin{align}\n",
    "\\frac{\\partial \\errfunc}{\\partial \\sigout_o} &= 2 (\\sigout_o - \\sigoutdes) \\\\\n",
    "\\frac{\\partial \\sigout_o}{\\partial \\pot_o}   &= f'(\\pot_o) = 1 \\\\\n",
    "\\frac{\\partial \\pot_o}{\\partial \\sigout_3}   &= \\weight_9 \\\\\n",
    "\\frac{\\partial \\sigout_3}{\\partial \\pot_3}   &= f'(\\pot_3) \\\\\n",
    "\\frac{\\partial \\pot_3}{\\partial \\color{red}{\\weight_5}}   &= \\sigout_1 \\\\\n",
    "\\end{align}\n",
    "$$"
   ]
  },
  {
   "cell_type": "markdown",
   "metadata": {},
   "source": [
    "we can write:\n",
    "\n",
    "$$\n",
    "\\frac{\\partial \\errfunc}{\\partial \\weight_5}\n",
    "=\n",
    "2(\\sigout_o - \\sigoutdes) \\cdot\n",
    "\\weight_9 \\cdot\n",
    "f'(\\pot_3) \\cdot\n",
    "\\sigout_1\n",
    "$$"
   ]
  },
  {
   "cell_type": "markdown",
   "metadata": {},
   "source": [
    "#### Naive detailed computation"
   ]
  },
  {
   "cell_type": "markdown",
   "metadata": {},
   "source": [
    "Let's write the forward computation in a (naive) detailed way."
   ]
  },
  {
   "cell_type": "code",
   "execution_count": null,
   "metadata": {},
   "outputs": [],
   "source": [
    "grad_E_w5 = 2 * (y_pred - y_true) * w9 * df(sigma3) * y1\n",
    "grad_E_w5"
   ]
  },
  {
   "cell_type": "markdown",
   "metadata": {},
   "source": [
    "#### Algebraic computation"
   ]
  },
  {
   "cell_type": "markdown",
   "metadata": {},
   "source": [
    "Let's rewrite the forward computation in a less naive way (using linear algebra)."
   ]
  },
  {
   "cell_type": "markdown",
   "metadata": {},
   "source": [
    "TODO..."
   ]
  },
  {
   "cell_type": "markdown",
   "metadata": {},
   "source": [
    "### Backward computation of $\\frac{\\partial \\errfunc}{\\partial \\weight_4}$"
   ]
  },
  {
   "cell_type": "code",
   "execution_count": null,
   "metadata": {},
   "outputs": [],
   "source": [
    "display_nn(\n",
    "    hidden_list=[\"x1\", \"y1\", \"s1\", \"n1\", \"w1\", \"w2\", \"w3\", \"w5\", \"w6\"],\n",
    "    highlight_list=[\"w4\"]\n",
    ")"
   ]
  },
  {
   "cell_type": "markdown",
   "metadata": {},
   "source": [
    "$$\n",
    "\\sigout_o =\n",
    "\\activfunc \\left(\n",
    "\\overbrace{\n",
    "    \\weight_9 ~\n",
    "    \\underbrace{\n",
    "        \\activfunc \\left(\n",
    "            \\overbrace{\n",
    "                \\weight_5 \\underbrace{\n",
    "                    \\activfunc \\left(\n",
    "                        \\overbrace{\n",
    "                            \\weight_1 \\feature_1 + \\weight_3 \\feature_2\n",
    "                        }^{\\pot_1}\n",
    "                    \\right)\n",
    "                }_{\\sigout_1}\n",
    "                +\n",
    "                \\weight_7 \\underbrace{\n",
    "                    \\activfunc \\left(\n",
    "                        \\overbrace{\n",
    "                            \\weight_2 \\feature_1 + {\\color{red}{\\weight_4}} \\feature_2\n",
    "                        }^{\\pot_2}\n",
    "                    \\right)\n",
    "                }_{\\sigout_2}\n",
    "            }^{\\pot_3}\n",
    "        \\right)\n",
    "    }_{\\sigout_3}\n",
    "    +\n",
    "    \\weight_{10} ~ \\underbrace{\n",
    "        \\activfunc \\left(\n",
    "            \\overbrace{\n",
    "                \\weight_6 \\underbrace{\n",
    "                    \\activfunc \\left(\n",
    "                        \\overbrace{\n",
    "                            \\weight_1 \\feature_1 + \\weight_3 \\feature_2\n",
    "                        }^{\\pot_1}\n",
    "                    \\right)\n",
    "                }_{\\sigout_1}\n",
    "                +\n",
    "                \\weight_8 \\underbrace{\n",
    "                    \\activfunc \\left(\n",
    "                        \\overbrace{\n",
    "                            \\weight_2 \\feature_1 + {\\color{red}{\\weight_4}} \\feature_2\n",
    "                        }^{\\pot_2}\n",
    "                    \\right)\n",
    "                }_{\\sigout_2}\n",
    "            }^{\\pot_4}\n",
    "        \\right)\n",
    "    }_{\\sigout_4}\n",
    "}^{\\pot_o}\n",
    "\\right)\n",
    "$$"
   ]
  },
  {
   "cell_type": "markdown",
   "metadata": {},
   "source": [
    "Using the chain rule:\n",
    "\n",
    "$$\n",
    "\\frac{\\partial \\errfunc}{\\partial \\color{red}{\\weight_4}}\n",
    "=\n",
    "\\underbrace{\n",
    "    \\left(\n",
    "        \\underbrace{\n",
    "            \\underbrace{\n",
    "                \\frac{\\partial \\errfunc}{\\partial \\sigout_o}\n",
    "                \\frac{\\partial \\sigout_o}{\\partial \\pot_o} ~\n",
    "            }_{\\errsig_o}\n",
    "            \\frac{\\partial \\pot_o}{\\partial \\sigout_4} ~\n",
    "            \\frac{\\partial \\sigout_4}{\\partial \\pot_4} ~\n",
    "        }_{\\errsig_4}\n",
    "        \\frac{\\partial \\pot_4}{\\partial \\sigout_2} ~\n",
    "        +\n",
    "        \\underbrace{\n",
    "            \\underbrace{\n",
    "                \\frac{\\partial \\errfunc}{\\partial \\sigout_o}\n",
    "                \\frac{\\partial \\sigout_o}{\\partial \\pot_o} ~\n",
    "            }_{\\errsig_o}\n",
    "            \\frac{\\partial \\pot_o}{\\partial \\sigout_3} ~\n",
    "            \\frac{\\partial \\sigout_3}{\\partial \\pot_3} ~\n",
    "        }_{\\errsig_3}\n",
    "        \\frac{\\partial \\pot_3}{\\partial \\sigout_2} ~\n",
    "    \\right)\n",
    "    \\frac{\\partial \\sigout_2}{\\partial \\pot_2} ~\n",
    "}_{\\errsig_2}\n",
    "\\frac{\\partial \\pot_2}{\\partial \\color{red}{\\weight_4}}\n",
    "=\n",
    "\\errsig_2\n",
    "\\frac{\\partial \\pot_2}{\\partial \\color{red}{\\weight_4}}\n",
    "$$"
   ]
  },
  {
   "cell_type": "markdown",
   "metadata": {},
   "source": [
    "knowing that:\n",
    "\n",
    "$$\n",
    "\\begin{align}\n",
    "\\frac{\\partial \\errfunc}{\\partial \\sigout_o} &= 2 (\\sigout_o - \\sigoutdes) \\\\\n",
    "\\frac{\\partial \\sigout_o}{\\partial \\pot_o}   &= f'(\\pot_o) = 1 \\\\\n",
    "\\frac{\\partial \\pot_o}{\\partial \\sigout_4}   &= \\weight_{10} \\\\\n",
    "\\frac{\\partial \\sigout_4}{\\partial \\pot_4}   &= f'(\\pot_4) \\\\\n",
    "\\frac{\\partial \\pot_4}{\\partial \\sigout_2}   &= \\weight_8 \\\\\n",
    "\\frac{\\partial \\pot_o}{\\partial \\sigout_3}   &= \\weight_9 \\\\\n",
    "\\frac{\\partial \\sigout_3}{\\partial \\pot_3}   &= f'(\\pot_3) \\\\\n",
    "\\frac{\\partial \\pot_3}{\\partial \\sigout_2}   &= \\weight_7 \\\\\n",
    "\\frac{\\partial \\sigout_2}{\\partial \\pot_2}   &= f'(\\pot_2) \\\\\n",
    "\\frac{\\partial \\pot_2}{\\partial \\color{red}{\\weight_4}} &= \\feature_2\n",
    " \\\\\n",
    "\\end{align}\n",
    "$$"
   ]
  },
  {
   "cell_type": "markdown",
   "metadata": {},
   "source": [
    "we can write:\n",
    "\n",
    "$$\n",
    "\\frac{\\partial \\errfunc}{\\partial \\weight_4}\n",
    "=\n",
    "2(\\sigout_o - \\sigoutdes) \\cdot\n",
    "f'(\\pot_2) \\cdot\n",
    "\\weight_2\n",
    "\\left(\n",
    "    \\weight_{10} \\cdot\n",
    "    f'(\\pot_4) \\cdot\n",
    "    \\weight_8\n",
    "    +\n",
    "    \\weight_9 \\cdot\n",
    "    f'(\\pot_3) \\cdot\n",
    "    \\weight_7\n",
    "\\right)\n",
    "$$"
   ]
  },
  {
   "cell_type": "markdown",
   "metadata": {},
   "source": [
    "#### Naive detailed computation"
   ]
  },
  {
   "cell_type": "markdown",
   "metadata": {},
   "source": [
    "Let's write the forward computation in a (naive) detailed way."
   ]
  },
  {
   "cell_type": "code",
   "execution_count": null,
   "metadata": {},
   "outputs": [],
   "source": [
    "grad_E_w4 = 2 * (y_pred - y_true) * df(sigma2) * x2 * (w10 * df(sigma4) * w8 + w9 * df(sigma3) * w7)\n",
    "grad_E_w4"
   ]
  },
  {
   "cell_type": "markdown",
   "metadata": {},
   "source": [
    "#### Algebraic computation"
   ]
  },
  {
   "cell_type": "markdown",
   "metadata": {},
   "source": [
    "Let's rewrite the forward computation in a less naive way (using linear algebra)."
   ]
  },
  {
   "cell_type": "markdown",
   "metadata": {},
   "source": [
    "TODO..."
   ]
  },
  {
   "cell_type": "markdown",
   "metadata": {},
   "source": [
    "### Backward computation of $\\frac{\\partial \\errfunc}{\\partial \\weight_3}$"
   ]
  },
  {
   "cell_type": "code",
   "execution_count": null,
   "metadata": {},
   "outputs": [],
   "source": [
    "display_nn(\n",
    "    hidden_list=[\"x1\", \"y2\", \"s2\", \"n2\", \"w1\", \"w2\", \"w4\", \"w7\", \"w8\"],\n",
    "    highlight_list=[\"w3\"]\n",
    ")"
   ]
  },
  {
   "cell_type": "markdown",
   "metadata": {},
   "source": [
    "$$\n",
    "\\sigout_o =\n",
    "\\activfunc \\left(\n",
    "\\overbrace{\n",
    "    \\weight_9 ~\n",
    "    \\underbrace{\n",
    "        \\activfunc \\left(\n",
    "            \\overbrace{\n",
    "                \\weight_5 \\underbrace{\n",
    "                    \\activfunc \\left(\n",
    "                        \\overbrace{\n",
    "                            \\weight_1 \\feature_1 + {\\color{red}{\\weight_3}} \\feature_2\n",
    "                        }^{\\pot_1}\n",
    "                    \\right)\n",
    "                }_{\\sigout_1}\n",
    "                +\n",
    "                \\weight_7 \\underbrace{\n",
    "                    \\activfunc \\left(\n",
    "                        \\overbrace{\n",
    "                            \\weight_2 \\feature_1 + \\weight_4 \\feature_2\n",
    "                        }^{\\pot_2}\n",
    "                    \\right)\n",
    "                }_{\\sigout_2}\n",
    "            }^{\\pot_3}\n",
    "        \\right)\n",
    "    }_{\\sigout_3}\n",
    "    +\n",
    "    \\weight_{10} ~ \\underbrace{\n",
    "        \\activfunc \\left(\n",
    "            \\overbrace{\n",
    "                \\weight_6 \\underbrace{\n",
    "                    \\activfunc \\left(\n",
    "                        \\overbrace{\n",
    "                            \\weight_1 \\feature_1 + {\\color{red}{\\weight_3}} \\feature_2\n",
    "                        }^{\\pot_1}\n",
    "                    \\right)\n",
    "                }_{\\sigout_1}\n",
    "                +\n",
    "                \\weight_8 \\underbrace{\n",
    "                    \\activfunc \\left(\n",
    "                        \\overbrace{\n",
    "                            \\weight_2 \\feature_1 + \\weight_4 \\feature_2\n",
    "                        }^{\\pot_2}\n",
    "                    \\right)\n",
    "                }_{\\sigout_2}\n",
    "            }^{\\pot_4}\n",
    "        \\right)\n",
    "    }_{\\sigout_4}\n",
    "}^{\\pot_o}\n",
    "\\right)\n",
    "$$"
   ]
  },
  {
   "cell_type": "markdown",
   "metadata": {},
   "source": [
    "#### Naive detailed computation"
   ]
  },
  {
   "cell_type": "markdown",
   "metadata": {},
   "source": [
    "Let's write the forward computation in a (naive) detailed way."
   ]
  },
  {
   "cell_type": "code",
   "execution_count": null,
   "metadata": {},
   "outputs": [],
   "source": [
    "grad_E_w3 = 0\n",
    "grad_E_w3"
   ]
  },
  {
   "cell_type": "markdown",
   "metadata": {},
   "source": [
    "#### Algebraic computation"
   ]
  },
  {
   "cell_type": "markdown",
   "metadata": {},
   "source": [
    "Let's rewrite the forward computation in a less naive way (using linear algebra)."
   ]
  },
  {
   "cell_type": "markdown",
   "metadata": {},
   "source": [
    "TODO..."
   ]
  },
  {
   "cell_type": "markdown",
   "metadata": {},
   "source": [
    "### Backward computation of $\\frac{\\partial \\errfunc}{\\partial \\weight_2}$"
   ]
  },
  {
   "cell_type": "code",
   "execution_count": null,
   "metadata": {},
   "outputs": [],
   "source": [
    "display_nn(\n",
    "    hidden_list=[\"x2\", \"y1\", \"s1\", \"n1\", \"w1\", \"w4\", \"w3\", \"w5\", \"w6\"],\n",
    "    highlight_list=[\"w2\"]\n",
    ")"
   ]
  },
  {
   "cell_type": "markdown",
   "metadata": {},
   "source": [
    "$$\n",
    "\\sigout_o =\n",
    "\\activfunc \\left(\n",
    "\\overbrace{\n",
    "    \\weight_9 ~\n",
    "    \\underbrace{\n",
    "        \\activfunc \\left(\n",
    "            \\overbrace{\n",
    "                \\weight_5 \\underbrace{\n",
    "                    \\activfunc \\left(\n",
    "                        \\overbrace{\n",
    "                            \\weight_1 \\feature_1 + \\weight_3 \\feature_2\n",
    "                        }^{\\pot_1}\n",
    "                    \\right)\n",
    "                }_{\\sigout_1}\n",
    "                +\n",
    "                \\weight_7 \\underbrace{\n",
    "                    \\activfunc \\left(\n",
    "                        \\overbrace{\n",
    "                            {\\color{red}{\\weight_2}} \\feature_1 + \\weight_4 \\feature_2\n",
    "                        }^{\\pot_2}\n",
    "                    \\right)\n",
    "                }_{\\sigout_2}\n",
    "            }^{\\pot_3}\n",
    "        \\right)\n",
    "    }_{\\sigout_3}\n",
    "    +\n",
    "    \\weight_{10} ~ \\underbrace{\n",
    "        \\activfunc \\left(\n",
    "            \\overbrace{\n",
    "                \\weight_6 \\underbrace{\n",
    "                    \\activfunc \\left(\n",
    "                        \\overbrace{\n",
    "                            \\weight_1 \\feature_1 + \\weight_3 \\feature_2\n",
    "                        }^{\\pot_1}\n",
    "                    \\right)\n",
    "                }_{\\sigout_1}\n",
    "                +\n",
    "                \\weight_8 \\underbrace{\n",
    "                    \\activfunc \\left(\n",
    "                        \\overbrace{\n",
    "                            {\\color{red}{\\weight_2}} \\feature_1 + \\weight_4 \\feature_2\n",
    "                        }^{\\pot_2}\n",
    "                    \\right)\n",
    "                }_{\\sigout_2}\n",
    "            }^{\\pot_4}\n",
    "        \\right)\n",
    "    }_{\\sigout_4}\n",
    "}^{\\pot_o}\n",
    "\\right)\n",
    "$$"
   ]
  },
  {
   "cell_type": "markdown",
   "metadata": {},
   "source": [
    "#### Naive detailed computation"
   ]
  },
  {
   "cell_type": "markdown",
   "metadata": {},
   "source": [
    "Let's write the forward computation in a (naive) detailed way."
   ]
  },
  {
   "cell_type": "code",
   "execution_count": null,
   "metadata": {},
   "outputs": [],
   "source": [
    "grad_E_w2 = 0\n",
    "grad_E_w2"
   ]
  },
  {
   "cell_type": "markdown",
   "metadata": {},
   "source": [
    "#### Algebraic computation"
   ]
  },
  {
   "cell_type": "markdown",
   "metadata": {},
   "source": [
    "Let's rewrite the forward computation in a less naive way (using linear algebra)."
   ]
  },
  {
   "cell_type": "markdown",
   "metadata": {},
   "source": [
    "TODO..."
   ]
  },
  {
   "cell_type": "markdown",
   "metadata": {},
   "source": [
    "### Backward computation of $\\frac{\\partial \\errfunc}{\\partial \\weight_1}$"
   ]
  },
  {
   "cell_type": "code",
   "execution_count": null,
   "metadata": {},
   "outputs": [],
   "source": [
    "display_nn(\n",
    "    hidden_list=[\"x2\", \"y2\", \"s2\", \"n2\", \"w4\", \"w2\", \"w3\", \"w7\", \"w8\"],\n",
    "    highlight_list=[\"w1\"]\n",
    ")"
   ]
  },
  {
   "cell_type": "markdown",
   "metadata": {},
   "source": [
    "$$\n",
    "\\sigout_o =\n",
    "\\activfunc \\left(\n",
    "\\overbrace{\n",
    "    \\weight_9 ~\n",
    "    \\underbrace{\n",
    "        \\activfunc \\left(\n",
    "            \\overbrace{\n",
    "                \\weight_5 \\underbrace{\n",
    "                    \\activfunc \\left(\n",
    "                        \\overbrace{\n",
    "                            {\\color{red}{\\weight_1}} \\feature_1 + \\weight_3 \\feature_2\n",
    "                        }^{\\pot_1}\n",
    "                    \\right)\n",
    "                }_{\\sigout_1}\n",
    "                +\n",
    "                \\weight_7 \\underbrace{\n",
    "                    \\activfunc \\left(\n",
    "                        \\overbrace{\n",
    "                            \\weight_2 \\feature_1 + \\weight_4 \\feature_2\n",
    "                        }^{\\pot_2}\n",
    "                    \\right)\n",
    "                }_{\\sigout_2}\n",
    "            }^{\\pot_3}\n",
    "        \\right)\n",
    "    }_{\\sigout_3}\n",
    "    +\n",
    "    \\weight_{10} ~ \\underbrace{\n",
    "        \\activfunc \\left(\n",
    "            \\overbrace{\n",
    "                \\weight_6 \\underbrace{\n",
    "                    \\activfunc \\left(\n",
    "                        \\overbrace{\n",
    "                            {\\color{red}{\\weight_1}} \\feature_1 + \\weight_3 \\feature_2\n",
    "                        }^{\\pot_1}\n",
    "                    \\right)\n",
    "                }_{\\sigout_1}\n",
    "                +\n",
    "                \\weight_8 \\underbrace{\n",
    "                    \\activfunc \\left(\n",
    "                        \\overbrace{\n",
    "                            \\weight_2 \\feature_1 + \\weight_4 \\feature_2\n",
    "                        }^{\\pot_2}\n",
    "                    \\right)\n",
    "                }_{\\sigout_2}\n",
    "            }^{\\pot_4}\n",
    "        \\right)\n",
    "    }_{\\sigout_4}\n",
    "}^{\\pot_o}\n",
    "\\right)\n",
    "$$"
   ]
  },
  {
   "cell_type": "markdown",
   "metadata": {},
   "source": [
    "#### Naive detailed computation"
   ]
  },
  {
   "cell_type": "markdown",
   "metadata": {},
   "source": [
    "Let's write the forward computation in a (naive) detailed way."
   ]
  },
  {
   "cell_type": "code",
   "execution_count": null,
   "metadata": {},
   "outputs": [],
   "source": [
    "grad_E_w1 = 0\n",
    "grad_E_w1"
   ]
  },
  {
   "cell_type": "markdown",
   "metadata": {},
   "source": [
    "#### Algebraic computation"
   ]
  },
  {
   "cell_type": "markdown",
   "metadata": {},
   "source": [
    "Let's rewrite the forward computation in a less naive way (using linear algebra)."
   ]
  },
  {
   "cell_type": "markdown",
   "metadata": {},
   "source": [
    "TODO..."
   ]
  },
  {
   "cell_type": "markdown",
   "metadata": {},
   "source": [
    "## Check backward computations result with PyTorch"
   ]
  },
  {
   "cell_type": "code",
   "execution_count": null,
   "metadata": {},
   "outputs": [],
   "source": [
    "error.backward()"
   ]
  },
  {
   "cell_type": "code",
   "execution_count": null,
   "metadata": {},
   "outputs": [],
   "source": [
    "# Get gradients\n",
    "for name, param in model.named_parameters():\n",
    "    if param.requires_grad:\n",
    "        print(f\"Gradient for {name}:\")\n",
    "        print(param.grad)\n",
    "        print()"
   ]
  },
  {
   "cell_type": "markdown",
   "metadata": {},
   "source": [
    "Let's compare with what we have manually computed:"
   ]
  },
  {
   "cell_type": "code",
   "execution_count": null,
   "metadata": {},
   "outputs": [],
   "source": [
    "grad_layer_0 = torch.tensor([[grad_E_w1, grad_E_w3], [grad_E_w2, grad_E_w4]])\n",
    "print(\"Gradient for 0.weight:\")\n",
    "print(grad_layer_0)\n",
    "print()\n",
    "\n",
    "grad_layer_2 = torch.tensor([[grad_E_w5, grad_E_w7], [grad_E_w6, grad_E_w8]])\n",
    "print(\"Gradient for 2.weight:\")\n",
    "print(grad_layer_2)\n",
    "print()\n",
    "\n",
    "grad_layer_4 = torch.tensor([[grad_E_w9, grad_E_w10]])\n",
    "print(\"Gradient for 4.weight:\")\n",
    "print(grad_layer_4)"
   ]
  }
 ],
 "metadata": {
  "kernelspec": {
   "display_name": "Python 3 (ipykernel)",
   "language": "python",
   "name": "python3"
  },
  "language_info": {
   "codemirror_mode": {
    "name": "ipython",
    "version": 3
   },
   "file_extension": ".py",
   "mimetype": "text/x-python",
   "name": "python",
   "nbconvert_exporter": "python",
   "pygments_lexer": "ipython3",
   "version": "3.11.2"
  }
 },
 "nbformat": 4,
 "nbformat_minor": 4
}
