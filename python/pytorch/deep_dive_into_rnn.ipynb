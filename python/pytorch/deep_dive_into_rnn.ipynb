{
 "cells": [
  {
   "cell_type": "markdown",
   "metadata": {},
   "source": [
    "# Deep dive into RNNs"
   ]
  },
  {
   "cell_type": "code",
   "execution_count": null,
   "metadata": {},
   "outputs": [],
   "source": [
    "import itertools\n",
    "import matplotlib.pyplot as plt\n",
    "import networkx as nx\n",
    "import torch\n",
    "from torch.nn import RNN\n",
    "from torch.nn import LSTM\n",
    "from torch.nn import GRU"
   ]
  },
  {
   "cell_type": "code",
   "execution_count": null,
   "metadata": {},
   "outputs": [],
   "source": [
    "# https://networkx.org/documentation/stable/auto_examples/drawing/plot_multipartite_graph.html#\n",
    "\n",
    "\n",
    "subset_sizes = [5, 5, 4, 3, 2, 4, 4, 3]\n",
    "subset_color = [\n",
    "    \"gold\",\n",
    "    \"violet\",\n",
    "    \"violet\",\n",
    "    \"violet\",\n",
    "    \"violet\",\n",
    "    \"limegreen\",\n",
    "    \"limegreen\",\n",
    "    \"darkorange\",\n",
    "]\n",
    "\n",
    "\n",
    "def multilayered_graph(*subset_sizes):\n",
    "    extents = nx.utils.pairwise(itertools.accumulate((0,) + subset_sizes))\n",
    "    layers = [range(start, end) for start, end in extents]\n",
    "    G = nx.Graph()\n",
    "    for i, layer in enumerate(layers):\n",
    "        G.add_nodes_from(layer, layer=i)\n",
    "    for layer1, layer2 in nx.utils.pairwise(layers):\n",
    "        G.add_edges_from(itertools.product(layer1, layer2))\n",
    "    return G\n",
    "\n",
    "\n",
    "G = multilayered_graph(*subset_sizes)\n",
    "color = [subset_color[data[\"layer\"]] for v, data in G.nodes(data=True)]\n",
    "pos = nx.multipartite_layout(G, subset_key=\"layer\")\n",
    "plt.figure(figsize=(8, 8))\n",
    "nx.draw(G, pos, node_color=color, with_labels=False)\n",
    "plt.axis(\"equal\")\n",
    "plt.show()"
   ]
  },
  {
   "cell_type": "code",
   "execution_count": null,
   "metadata": {},
   "outputs": [],
   "source": [
    "# import networkx as nx\n",
    "# import itertools\n",
    "# import matplotlib.pyplot as plt\n",
    "# import numpy as np\n",
    "# from matplotlib.patches import FancyArrowPatch\n",
    "\n",
    "# # Taille des sous-ensembles (couches)\n",
    "# subset_sizes = [3, 2, 3]\n",
    "\n",
    "# # Couleurs pour les nœuds de chaque couche\n",
    "# subset_color = [\n",
    "#     \"gold\",\n",
    "#     \"violet\",\n",
    "#     \"violet\",\n",
    "#     \"violet\",\n",
    "#     \"violet\",\n",
    "#     \"limegreen\",\n",
    "#     \"limegreen\",\n",
    "#     \"darkorange\",\n",
    "# ]\n",
    "\n",
    "# def multilayered_graph(*subset_sizes):\n",
    "#     # Calcul des intervalles pour chaque couche\n",
    "#     extents = nx.utils.pairwise(itertools.accumulate((0,) + subset_sizes))\n",
    "#     layers = [range(start, end) for start, end in extents]\n",
    "#     G = nx.DiGraph()  # Utilisation d'un graphe orienté pour représenter les boucles\n",
    "#     for i, layer in enumerate(layers):\n",
    "#         G.add_nodes_from(layer, layer=i)\n",
    "#         node_list = list(layer)\n",
    "#         # Ajout des arêtes entre tous les nœuds de la même couche\n",
    "#         for u, v in itertools.permutations(node_list, 2):\n",
    "#             G.add_edge(u, v)\n",
    "#         # Ajout des boucles sur chaque nœud\n",
    "#         for node in layer:\n",
    "#             G.add_edge(node, node)\n",
    "#     # Ajout des arêtes entre les couches adjacentes\n",
    "#     for layer1, layer2 in nx.utils.pairwise(layers):\n",
    "#         G.add_edges_from(itertools.product(layer1, layer2))\n",
    "#     return G\n",
    "\n",
    "# def draw_curved_edges(G, pos, ax):\n",
    "#     # Création d'un dictionnaire pour stocker les arêtes entre les mêmes nœuds\n",
    "#     edge_groups = {}\n",
    "#     for u, v in G.edges():\n",
    "#         if u == v:\n",
    "#             # Boucle sur le même nœud\n",
    "#             key = (u, v)\n",
    "#         elif (v, u) in edge_groups:\n",
    "#             # Arête existante dans l'autre sens\n",
    "#             key = (v, u)\n",
    "#         else:\n",
    "#             key = (u, v)\n",
    "#         edge_groups.setdefault(key, []).append((u, v))\n",
    "    \n",
    "#     for (u, v), edges in edge_groups.items():\n",
    "#         num_edges = len(edges)\n",
    "#         # Définition des courbures pour les arêtes multiples\n",
    "#         if num_edges == 1:\n",
    "#             rad_list = [0.0]\n",
    "#         else:\n",
    "#             rad_list = np.linspace(-0.5, 0.5, num_edges)\n",
    "#         for (edge, rad) in zip(edges, rad_list):\n",
    "#             u, v = edge\n",
    "#             if u == v:\n",
    "#                 # Boucle sur le même nœud avec une courbure fixe\n",
    "#                 rad = 0.3\n",
    "#             elif G.nodes[u]['layer'] == G.nodes[v]['layer']:\n",
    "#                 # Ajustement de la courbure pour les arêtes dans la même couche\n",
    "#                 rad *= 1.5\n",
    "#             else:\n",
    "#                 # Réduction de la courbure pour les arêtes entre couches\n",
    "#                 rad *= 0.1\n",
    "#             # Dessin de l'arête avec la courbure spécifiée\n",
    "#             arrow = FancyArrowPatch(\n",
    "#                 posA=pos[u], posB=pos[v],\n",
    "#                 connectionstyle=f\"arc3,rad={rad}\",\n",
    "#                 arrowstyle='-|>',\n",
    "#                 mutation_scale=10.0,\n",
    "#                 color='gray',\n",
    "#                 linewidth=1.0,\n",
    "#             )\n",
    "#             ax.add_patch(arrow)\n",
    "\n",
    "# G = multilayered_graph(*subset_sizes)\n",
    "# color = [subset_color[data[\"layer\"]] for v, data in G.nodes(data=True)]\n",
    "# pos = nx.multipartite_layout(G, subset_key=\"layer\")\n",
    "\n",
    "# fig, ax = plt.subplots(figsize=(8, 8))\n",
    "# nx.draw_networkx_nodes(G, pos, node_color=color, ax=ax)\n",
    "# nx.draw_networkx_labels(G, pos, ax=ax)\n",
    "\n",
    "# # Dessin des arêtes avec des courbes individuelles\n",
    "# draw_curved_edges(G, pos, ax)\n",
    "\n",
    "# plt.axis(\"equal\")\n",
    "# plt.axis('off')\n",
    "# plt.show()\n"
   ]
  },
  {
   "cell_type": "markdown",
   "metadata": {},
   "source": [
    "# RNN"
   ]
  },
  {
   "cell_type": "code",
   "execution_count": null,
   "metadata": {},
   "outputs": [],
   "source": [
    "# model.state_dict()\n",
    "# model.weight_ih_l*   e.g. model.weight_ih_l0\n",
    "# model.weight_hh_l*   e.g. model.weight_hh_l0\n",
    "# model.bias_ih_l*   e.g. model.bias_ih_l0\n",
    "# model.bias_hh_l*   e.g. model.bias_hh_l0\n",
    "#\n",
    "# model.all_weights\n",
    "# model.hidden_size\n",
    "# model.input_size\n",
    "#\n",
    "# list(model.parameters())\n",
    "# model.get_expected_hidden_size()\n",
    "# model.get_parameter()\n",
    "#\n",
    "# print(\"model.weight_hh_l0:\", model.weight_hh_l0)\n",
    "# print(\"model.weight_ih_l0:\", model.weight_ih_l0)\n",
    "# print(\"model.bias_ih_l0:\", model.bias_ih_l0)\n",
    "# print(\"model.bias_hh_l0:\", model.bias_hh_l0)"
   ]
  },
  {
   "cell_type": "markdown",
   "metadata": {},
   "source": [
    "## One feature, one unit, one layer, no bias\n",
    "\n",
    "<img src=\"assets/RNN1.drawio.svg\" />"
   ]
  },
  {
   "cell_type": "code",
   "execution_count": null,
   "metadata": {},
   "outputs": [],
   "source": [
    "model = RNN(input_size=1, hidden_size=1, num_layers=1, bias=False)\n",
    "model.state_dict()"
   ]
  },
  {
   "cell_type": "code",
   "execution_count": null,
   "metadata": {},
   "outputs": [],
   "source": [
    "x = torch.randn(10).unsqueeze(1)\n",
    "x"
   ]
  },
  {
   "cell_type": "code",
   "execution_count": null,
   "metadata": {},
   "outputs": [],
   "source": [
    "model(x)"
   ]
  },
  {
   "cell_type": "markdown",
   "metadata": {},
   "source": [
    "## One feature, one unit, one layer, bias\n",
    "\n",
    "<img src=\"assets/RNN2.drawio.svg\" />"
   ]
  },
  {
   "cell_type": "code",
   "execution_count": null,
   "metadata": {},
   "outputs": [],
   "source": [
    "model = RNN(input_size=1, hidden_size=1, num_layers=1, bias=True)\n",
    "model.state_dict()"
   ]
  },
  {
   "cell_type": "code",
   "execution_count": null,
   "metadata": {},
   "outputs": [],
   "source": [
    "x = torch.randn(10, 1, 1)    # (seq_len=10, batch_size=1, input_size=1)\n",
    "x"
   ]
  },
  {
   "cell_type": "code",
   "execution_count": null,
   "metadata": {},
   "outputs": [],
   "source": [
    "model(x)"
   ]
  },
  {
   "cell_type": "markdown",
   "metadata": {},
   "source": [
    "## Three features, one unit, one layer, no bias\n",
    "\n",
    "<img src=\"assets/RNN3.drawio.svg\" />"
   ]
  },
  {
   "cell_type": "code",
   "execution_count": null,
   "metadata": {},
   "outputs": [],
   "source": [
    "model = RNN(input_size=3, hidden_size=1, num_layers=1, bias=False)\n",
    "model.state_dict()"
   ]
  },
  {
   "cell_type": "code",
   "execution_count": null,
   "metadata": {},
   "outputs": [],
   "source": [
    "x = torch.randn(10, 3)\n",
    "x"
   ]
  },
  {
   "cell_type": "code",
   "execution_count": null,
   "metadata": {},
   "outputs": [],
   "source": [
    "model(x)"
   ]
  },
  {
   "cell_type": "markdown",
   "metadata": {},
   "source": [
    "## Three features, one unit, one layer, bias"
   ]
  },
  {
   "cell_type": "code",
   "execution_count": null,
   "metadata": {},
   "outputs": [],
   "source": [
    "model = RNN(input_size=3, hidden_size=1, num_layers=1, bias=False)\n",
    "model.state_dict()"
   ]
  },
  {
   "cell_type": "markdown",
   "metadata": {},
   "source": [
    "## One feature, two units, one layer, no bias"
   ]
  },
  {
   "cell_type": "code",
   "execution_count": null,
   "metadata": {},
   "outputs": [],
   "source": [
    "model = RNN(input_size=1, hidden_size=2, num_layers=1, bias=False)\n",
    "model.state_dict()"
   ]
  },
  {
   "cell_type": "markdown",
   "metadata": {},
   "source": [
    "## One feature, two units, one layer, bias"
   ]
  },
  {
   "cell_type": "code",
   "execution_count": null,
   "metadata": {},
   "outputs": [],
   "source": [
    "model = RNN(input_size=1, hidden_size=2, num_layers=1, bias=True)\n",
    "model.state_dict()"
   ]
  },
  {
   "cell_type": "markdown",
   "metadata": {},
   "source": [
    "## Three features, two units, one layer, no bias\n",
    "\n",
    "<img src=\"assets/RNN4.drawio.svg\" />"
   ]
  },
  {
   "cell_type": "code",
   "execution_count": null,
   "metadata": {},
   "outputs": [],
   "source": [
    "model = RNN(input_size=3, hidden_size=2, num_layers=1, bias=False)\n",
    "model.state_dict()"
   ]
  },
  {
   "cell_type": "code",
   "execution_count": null,
   "metadata": {},
   "outputs": [],
   "source": [
    "x = torch.randn(10, 1, 3)    # (seq_len=10, batch_size=1, input_size=3)\n",
    "x"
   ]
  },
  {
   "cell_type": "code",
   "execution_count": null,
   "metadata": {},
   "outputs": [],
   "source": [
    "model(x)"
   ]
  },
  {
   "cell_type": "markdown",
   "metadata": {},
   "source": [
    "## Three features, two units, one layer, bias"
   ]
  },
  {
   "cell_type": "code",
   "execution_count": null,
   "metadata": {},
   "outputs": [],
   "source": [
    "model = RNN(input_size=2, hidden_size=2, num_layers=1, bias=False)\n",
    "model.state_dict()"
   ]
  },
  {
   "cell_type": "markdown",
   "metadata": {},
   "source": [
    "## Three features, three units, one layer, bias"
   ]
  },
  {
   "cell_type": "code",
   "execution_count": null,
   "metadata": {},
   "outputs": [],
   "source": [
    "model = RNN(input_size=2, hidden_size=3, num_layers=1, bias=False)\n",
    "model.state_dict()"
   ]
  },
  {
   "cell_type": "markdown",
   "metadata": {},
   "source": [
    "## Three features, two units, two layers (stacked RNN), no bias\n",
    "\n",
    "<img src=\"assets/RNN5.drawio.svg\" />"
   ]
  },
  {
   "cell_type": "code",
   "execution_count": null,
   "metadata": {},
   "outputs": [],
   "source": [
    "model = RNN(input_size=3, hidden_size=2, num_layers=2, bias=False)\n",
    "model.state_dict()"
   ]
  },
  {
   "cell_type": "code",
   "execution_count": null,
   "metadata": {},
   "outputs": [],
   "source": [
    "x = torch.randn(10, 1, 3)    # (seq_len=10, batch_size=1, input_size=3)\n",
    "x"
   ]
  },
  {
   "cell_type": "code",
   "execution_count": null,
   "metadata": {},
   "outputs": [],
   "source": [
    "y = model(x)\n",
    "y"
   ]
  },
  {
   "cell_type": "code",
   "execution_count": null,
   "metadata": {},
   "outputs": [],
   "source": [
    "type(y)"
   ]
  },
  {
   "cell_type": "code",
   "execution_count": null,
   "metadata": {},
   "outputs": [],
   "source": [
    "type(y[0])"
   ]
  },
  {
   "cell_type": "code",
   "execution_count": null,
   "metadata": {},
   "outputs": [],
   "source": [
    "type(y[1])"
   ]
  },
  {
   "cell_type": "markdown",
   "metadata": {},
   "source": [
    "## Three features, two units, four layers (stacked RNN), no bias\n",
    "\n",
    "<img src=\"assets/RNN6.drawio.svg\" />"
   ]
  },
  {
   "cell_type": "code",
   "execution_count": null,
   "metadata": {},
   "outputs": [],
   "source": [
    "model = RNN(input_size=3, hidden_size=2, num_layers=4, bias=False)\n",
    "model.state_dict()"
   ]
  },
  {
   "cell_type": "code",
   "execution_count": null,
   "metadata": {},
   "outputs": [],
   "source": [
    "x = torch.randn(10, 3)\n",
    "x"
   ]
  },
  {
   "cell_type": "code",
   "execution_count": null,
   "metadata": {},
   "outputs": [],
   "source": [
    "model(x)"
   ]
  },
  {
   "cell_type": "markdown",
   "metadata": {},
   "source": [
    "# Bidirectionnal RNN\n",
    "\n",
    "TODO..."
   ]
  },
  {
   "cell_type": "markdown",
   "metadata": {},
   "source": [
    "# LSTM"
   ]
  }
 ],
 "metadata": {
  "kernelspec": {
   "display_name": "env",
   "language": "python",
   "name": "python3"
  },
  "language_info": {
   "codemirror_mode": {
    "name": "ipython",
    "version": 3
   },
   "file_extension": ".py",
   "mimetype": "text/x-python",
   "name": "python",
   "nbconvert_exporter": "python",
   "pygments_lexer": "ipython3",
   "version": "3.11.2"
  }
 },
 "nbformat": 4,
 "nbformat_minor": 2
}
