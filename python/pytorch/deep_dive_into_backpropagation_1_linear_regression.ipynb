{
 "cells": [
  {
   "cell_type": "markdown",
   "metadata": {},
   "source": [
    "# Deep dive into backpropagation"
   ]
  },
  {
   "cell_type": "code",
   "execution_count": null,
   "metadata": {},
   "outputs": [],
   "source": [
    "import torch"
   ]
  },
  {
   "cell_type": "markdown",
   "metadata": {},
   "source": [
    "<img src=\"assets/regression_1d.drawio.svg\" width=\"500\">"
   ]
  },
  {
   "cell_type": "code",
   "execution_count": null,
   "metadata": {},
   "outputs": [],
   "source": [
    "model = torch.nn.Linear(\n",
    "    in_features=1,\n",
    "    out_features=1,\n",
    "    bias=True\n",
    ")\n",
    "model.state_dict() # print the weights and biases of the model"
   ]
  },
  {
   "cell_type": "code",
   "execution_count": null,
   "metadata": {},
   "outputs": [],
   "source": [
    "x = torch.randn(1)\n",
    "x"
   ]
  },
  {
   "cell_type": "code",
   "execution_count": null,
   "metadata": {},
   "outputs": [],
   "source": [
    "w = 3.0\n",
    "b = 2.0\n",
    "\n",
    "y_true = w * x + b\n",
    "y_true"
   ]
  },
  {
   "cell_type": "code",
   "execution_count": null,
   "metadata": {},
   "outputs": [],
   "source": [
    "loss_fn = torch.nn.MSELoss()"
   ]
  },
  {
   "cell_type": "markdown",
   "metadata": {},
   "source": [
    "### Forward pass"
   ]
  },
  {
   "cell_type": "code",
   "execution_count": null,
   "metadata": {},
   "outputs": [],
   "source": [
    "y_pred = model(x)\n",
    "y_pred"
   ]
  },
  {
   "cell_type": "code",
   "execution_count": null,
   "metadata": {},
   "outputs": [],
   "source": [
    "error = loss_fn(y_pred, y_true)\n",
    "error"
   ]
  },
  {
   "cell_type": "markdown",
   "metadata": {},
   "source": [
    "Let's manually compute the error and compare it with the error computed above:"
   ]
  },
  {
   "cell_type": "code",
   "execution_count": null,
   "metadata": {},
   "outputs": [],
   "source": [
    "# The loss is the mean squared error between the predicted and true values\n",
    "(y_pred - y_true)**2"
   ]
  },
  {
   "cell_type": "markdown",
   "metadata": {},
   "source": [
    "$$\n",
    "E =\n",
    "\\left(\n",
    "\\underbrace{\n",
    "f(\n",
    "\\overbrace{\n",
    "w \\cdot x + b\n",
    "}^{\\sigma}\n",
    ")\n",
    "}_{y}\n",
    "- y^*\n",
    "\\right)^2\n",
    "$$\n",
    "\n",
    "$$\n",
    "\\begin{align}\n",
    "E &= \\left( y - y^* \\right)^2 \\\\\n",
    "y &= f(\\sigma) \\\\\n",
    "\\sigma &= w \\cdot x + b \\\\\n",
    "\\end{align}\n",
    "$$"
   ]
  },
  {
   "cell_type": "markdown",
   "metadata": {},
   "source": [
    "### Backward pass"
   ]
  },
  {
   "cell_type": "markdown",
   "metadata": {},
   "source": [
    "#### Computation $\\frac{\\partial E}{\\partial w}$ with PyTorch autograd"
   ]
  },
  {
   "cell_type": "code",
   "execution_count": null,
   "metadata": {},
   "outputs": [],
   "source": [
    "error.backward()"
   ]
  },
  {
   "cell_type": "code",
   "execution_count": null,
   "metadata": {},
   "outputs": [],
   "source": [
    "# Get gradients\n",
    "for name, param in model.named_parameters():\n",
    "    if param.requires_grad:\n",
    "        print(f\"Gradient for {name}: {param.grad}\")"
   ]
  },
  {
   "cell_type": "code",
   "execution_count": null,
   "metadata": {},
   "outputs": [],
   "source": [
    "model.state_dict()"
   ]
  },
  {
   "cell_type": "markdown",
   "metadata": {},
   "source": [
    "This is our reference computation. We will use it to validate the manual computation that follows."
   ]
  },
  {
   "cell_type": "markdown",
   "metadata": {},
   "source": [
    "#### Manual computation of $\\frac{\\partial E}{\\partial w}$"
   ]
  },
  {
   "cell_type": "markdown",
   "metadata": {},
   "source": [
    "Let's rewrite the computation of $\\frac{\\partial E}{\\partial w}$ manually."
   ]
  },
  {
   "cell_type": "markdown",
   "metadata": {},
   "source": [
    "Using the chain rule:\n",
    "\n",
    "$$\n",
    "\\frac{\\partial E}{\\partial w} =\n",
    "\\frac{\\partial E}{\\partial \\color{green}{\\sigma}} ~\n",
    "\\frac{\\partial \\color{green}{\\sigma}}{\\partial w} ~\n",
    "$$\n",
    "\n",
    "knowing that:\n",
    "\n",
    "$$\n",
    "\\begin{align}\n",
    "\\frac{\\partial E}{\\partial \\color{green}{\\sigma}} &= 2 (\\sigma - y^*) \\\\\n",
    "\\frac{\\partial \\color{green}{\\sigma}}{\\partial w} &= x \\\\\n",
    "\\end{align}\n",
    "$$\n",
    "\n",
    "we can write:\n",
    "\n",
    "$$\n",
    "\\frac{\\partial E}{\\partial w} = 2(\\sigma - y^*) \\cdot x\n",
    "$$"
   ]
  },
  {
   "cell_type": "markdown",
   "metadata": {},
   "source": [
    "Let's apply this formula to the previous example:"
   ]
  },
  {
   "cell_type": "code",
   "execution_count": null,
   "metadata": {},
   "outputs": [],
   "source": [
    "sigma = y_pred\n",
    "\n",
    "grad_E_w = 2 * (sigma - y_true) * x\n",
    "grad_E_w"
   ]
  },
  {
   "cell_type": "markdown",
   "metadata": {},
   "source": [
    "Ok, we obtain the same result than with PyTorch autograd."
   ]
  },
  {
   "cell_type": "markdown",
   "metadata": {},
   "source": [
    "#### Manual computation of $\\frac{\\partial E}{\\partial b}$"
   ]
  },
  {
   "cell_type": "markdown",
   "metadata": {},
   "source": [
    "Let's rewrite the computation of $\\frac{\\partial E}{\\partial b}$ manually."
   ]
  },
  {
   "cell_type": "markdown",
   "metadata": {},
   "source": [
    "Using the chain rule:\n",
    "\n",
    "$$\n",
    "\\frac{\\partial E}{\\partial b} =\n",
    "\\frac{\\partial E}{\\partial \\color{green}{\\sigma}} ~\n",
    "\\frac{\\partial \\color{green}{\\sigma}}{\\partial b} ~\n",
    "$$\n",
    "\n",
    "knowing that:\n",
    "\n",
    "$$\n",
    "\\begin{align}\n",
    "\\frac{\\partial E}{\\partial \\color{green}{\\sigma}} &= 2 (\\sigma - y^*) \\\\\n",
    "\\frac{\\partial \\color{green}{\\sigma}}{\\partial b} &= 1 \\\\\n",
    "\\end{align}\n",
    "$$\n",
    "\n",
    "we can write:\n",
    "\n",
    "$$\n",
    "\\frac{\\partial E}{\\partial w} = 2(\\sigma - y^*)\n",
    "$$"
   ]
  },
  {
   "cell_type": "markdown",
   "metadata": {},
   "source": [
    "Let's apply this formula to the previous example:"
   ]
  },
  {
   "cell_type": "code",
   "execution_count": null,
   "metadata": {},
   "outputs": [],
   "source": [
    "f = torch.nn.functional.tanh\n",
    "\n",
    "sigma = y_pred\n",
    "\n",
    "grad_b = 2 * (sigma - y_true)\n",
    "grad_b"
   ]
  },
  {
   "cell_type": "markdown",
   "metadata": {},
   "source": [
    "Ok, we obtain the same result than with PyTorch autograd."
   ]
  }
 ],
 "metadata": {
  "kernelspec": {
   "display_name": "Python 3 (ipykernel)",
   "language": "python",
   "name": "python3"
  },
  "language_info": {
   "codemirror_mode": {
    "name": "ipython",
    "version": 3
   },
   "file_extension": ".py",
   "mimetype": "text/x-python",
   "name": "python",
   "nbconvert_exporter": "python",
   "pygments_lexer": "ipython3",
   "version": "3.11.2"
  }
 },
 "nbformat": 4,
 "nbformat_minor": 4
}
