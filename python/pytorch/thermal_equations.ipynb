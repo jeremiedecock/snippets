{
 "cells": [
  {
   "cell_type": "markdown",
   "id": "cbe331d8",
   "metadata": {},
   "source": [
    "# Simulation de diffusion thermique 2D\n",
    "\n",
    "## Équation de diffusion thermique\n",
    "\n",
    "L'équation de diffusion thermique, aussi connue sous le nom d'équation de la chaleur, est une équation aux dérivées partielles qui décrit comment la température évolue dans un matériau au fil du temps. En 2D, cette équation s'écrit :\n",
    "\n",
    "$$\\frac{\\partial T}{\\partial t} = D \\left( \\frac{\\partial^2 T}{\\partial x^2} + \\frac{\\partial^2 T}{\\partial y^2} \\right)$$\n",
    "\n",
    "où :\n",
    "- $T(x,y,t)$ est la température au point $(x,y)$ au temps $t$\n",
    "- $D$ est le coefficient de diffusion thermique (constante positive)\n",
    "- $\\frac{\\partial T}{\\partial t}$ est la dérivée partielle de la température par rapport au temps\n",
    "- $\\frac{\\partial^2 T}{\\partial x^2}$ et $\\frac{\\partial^2 T}{\\partial y^2}$ sont les dérivées partielles secondes par rapport à l'espace\n",
    "\n",
    "## Discrétisation numérique\n",
    "\n",
    "Pour résoudre cette équation numériquement, on utilise une méthode des différences finies. Les dérivées partielles sont approximées par :\n",
    "\n",
    "$$\\frac{\\partial^2 T}{\\partial x^2} \\approx \\frac{T_{i+1,j} - 2T_{i,j} + T_{i-1,j}}{(\\Delta x)^2}$$\n",
    "$$\\frac{\\partial^2 T}{\\partial y^2} \\approx \\frac{T_{i,j+1} - 2T_{i,j} + T_{i,j-1}}{(\\Delta y)^2}$$\n",
    "\n",
    "L'évolution temporelle est calculée avec la méthode d'Euler explicite :\n",
    "\n",
    "$$T_{i,j}^{n+1} = T_{i,j}^{n} + D \\Delta t \\left( \\frac{T_{i+1,j}^{n} - 2T_{i,j}^{n} + T_{i-1,j}^{n}}{(\\Delta x)^2} + \\frac{T_{i,j+1}^{n} - 2T_{i,j}^{n} + T_{i,j-1}^{n}}{(\\Delta y)^2} \\right)$$\n",
    "\n",
    "où $n$ indique le pas de temps et $(i,j)$ indique la position spatiale."
   ]
  },
  {
   "cell_type": "code",
   "execution_count": null,
   "id": "543455a6",
   "metadata": {},
   "outputs": [],
   "source": [
    "# Importation des bibliothèques nécessaires\n",
    "import numpy as np\n",
    "import matplotlib.pyplot as plt\n",
    "from matplotlib import animation\n",
    "from IPython.display import Video\n",
    "import os"
   ]
  },
  {
   "cell_type": "code",
   "execution_count": null,
   "id": "50ce0415",
   "metadata": {},
   "outputs": [],
   "source": [
    "# Paramètres de la simulation\n",
    "nx, ny = 100, 100  # Nombre de points dans la grille\n",
    "D = 1.0           # Coefficient de diffusion\n",
    "dx, dy = 1.0, 1.0  # Pas d'espace\n",
    "dt = 0.1          # Pas de temps\n",
    "steps = 1000      # Nombre d'étapes de simulation\n",
    "save_every = 5    # Sauvegarder une image tous les 'save_every' pas de temps\n",
    "\n",
    "# Création de la grille de température initiale\n",
    "T = np.zeros((nx, ny))\n",
    "\n",
    "# Condition initiale : source de chaleur au centre\n",
    "radius = 5\n",
    "center_x, center_y = nx // 2, ny // 2\n",
    "for i in range(nx):\n",
    "    for j in range(ny):\n",
    "        if (i - center_x)**2 + (j - center_y)**2 < radius**2:\n",
    "            T[i, j] = 100.0  # Point chaud\n",
    "\n",
    "# Ajout d'autres sources de chaleur\n",
    "radius_small = 3\n",
    "for cx, cy in [(nx//4, ny//4), (3*nx//4, ny//4), (nx//4, 3*ny//4), (3*nx//4, 3*ny//4)]:\n",
    "    for i in range(nx):\n",
    "        for j in range(ny):\n",
    "            if (i - cx)**2 + (j - cy)**2 < radius_small**2:\n",
    "                T[i, j] = 50.0  # Sources secondaires"
   ]
  },
  {
   "cell_type": "code",
   "execution_count": null,
   "id": "2a393ad4",
   "metadata": {},
   "outputs": [],
   "source": [
    "# Fonction pour calculer un pas de temps de diffusion thermique\n",
    "def diffusion_step(T, D, dt, dx, dy):\n",
    "    # Copie de T pour éviter de modifier les valeurs pendant le calcul\n",
    "    T_new = T.copy()\n",
    "    \n",
    "    # Calcul des dérivées secondes par différences finies\n",
    "    # Pour chaque point intérieur (pas sur les bords)\n",
    "    for i in range(1, nx-1):\n",
    "        for j in range(1, ny-1):\n",
    "            # Dérivée seconde en x\n",
    "            d2Tdx2 = (T[i+1, j] - 2*T[i, j] + T[i-1, j]) / (dx**2)\n",
    "            # Dérivée seconde en y\n",
    "            d2Tdy2 = (T[i, j+1] - 2*T[i, j] + T[i, j-1]) / (dy**2)\n",
    "            \n",
    "            # Mise à jour de la température selon l'équation de diffusion\n",
    "            T_new[i, j] = T[i, j] + D * dt * (d2Tdx2 + d2Tdy2)\n",
    "    \n",
    "    return T_new"
   ]
  },
  {
   "cell_type": "code",
   "execution_count": null,
   "id": "0096bc2c",
   "metadata": {},
   "outputs": [],
   "source": [
    "# Configuration de la visualisation\n",
    "fig, ax = plt.subplots(figsize=(10, 8))\n",
    "plt.title('Simulation de diffusion thermique 2D')\n",
    "\n",
    "# Premier affichage\n",
    "im = plt.imshow(T, cmap='inferno', animated=True, vmin=0, vmax=100)\n",
    "plt.colorbar(im, label='Température')\n",
    "\n",
    "# Dossier pour stocker les images temporaires\n",
    "temp_dir = 'temp_frames'\n",
    "if not os.path.exists(temp_dir):\n",
    "    os.makedirs(temp_dir)\n",
    "\n",
    "# Simulation et sauvegarde des images\n",
    "print(\"Exécution de la simulation...\")\n",
    "frames = []\n",
    "for step in range(steps):\n",
    "    T = diffusion_step(T, D, dt, dx, dy)\n",
    "    \n",
    "    # Sauvegarde d'une image à intervalle régulier\n",
    "    if step % save_every == 0:\n",
    "        frame_path = f\"{temp_dir}/frame_{step//save_every:04d}.png\"\n",
    "        im.set_array(T)\n",
    "        plt.savefig(frame_path)\n",
    "        frames.append(frame_path)\n",
    "    \n",
    "    # Affichage de la progression\n",
    "    if step % 100 == 0:\n",
    "        print(f\"Étape {step}/{steps}\")"
   ]
  },
  {
   "cell_type": "code",
   "execution_count": null,
   "id": "75b03b4f",
   "metadata": {},
   "outputs": [],
   "source": [
    "# Création de la vidéo à partir des images\n",
    "import subprocess\n",
    "\n",
    "video_file = 'thermal_diffusion.mp4'\n",
    "fps = 30\n",
    "\n",
    "# Commande ffmpeg pour créer la vidéo\n",
    "cmd = f\"ffmpeg -y -framerate {fps} -i {temp_dir}/frame_%04d.png -c:v libx264 -pix_fmt yuv420p -crf 23 {video_file}\"\n",
    "print(\"Création de la vidéo...\")\n",
    "subprocess.run(cmd, shell=True)\n",
    "print(f\"Vidéo créée: {video_file}\")"
   ]
  },
  {
   "cell_type": "code",
   "execution_count": null,
   "id": "3f91331c",
   "metadata": {},
   "outputs": [],
   "source": [
    "# Afficher la vidéo dans le notebook\n",
    "Video(video_file)"
   ]
  },
  {
   "cell_type": "code",
   "execution_count": null,
   "id": "3fbab845",
   "metadata": {},
   "outputs": [],
   "source": [
    "# Nettoyage des fichiers temporaires (optionnel)\n",
    "import shutil\n",
    "\n",
    "# Décommenter pour supprimer les images temporaires\n",
    "# shutil.rmtree(temp_dir)"
   ]
  }
 ],
 "metadata": {
  "kernelspec": {
   "display_name": "Python 3",
   "language": "python",
   "name": "python3"
  },
  "language_info": {
   "codemirror_mode": {
    "name": "ipython",
    "version": 3
   },
   "file_extension": ".py",
   "mimetype": "text/x-python",
   "name": "python",
   "nbconvert_exporter": "python",
   "pygments_lexer": "ipython3",
   "version": "3.12.9"
  }
 },
 "nbformat": 4,
 "nbformat_minor": 5
}
