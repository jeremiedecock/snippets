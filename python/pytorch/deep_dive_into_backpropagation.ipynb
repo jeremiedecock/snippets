{
 "cells": [
  {
   "cell_type": "markdown",
   "metadata": {},
   "source": [
    "# Deep dive into backpropagation"
   ]
  },
  {
   "cell_type": "code",
   "execution_count": 1,
   "metadata": {},
   "outputs": [],
   "source": [
    "import torch"
   ]
  },
  {
   "cell_type": "code",
   "execution_count": null,
   "metadata": {},
   "outputs": [],
   "source": [
    "model = torch.nn.Linear(\n",
    "    in_features=1,\n",
    "    out_features=1,\n",
    "    bias=True\n",
    ")\n",
    "model.state_dict() # print the weights and biases of the model"
   ]
  },
  {
   "cell_type": "code",
   "execution_count": null,
   "metadata": {},
   "outputs": [],
   "source": [
    "x = torch.randn(1)    # (seq_len, input_size)\n",
    "x"
   ]
  },
  {
   "cell_type": "code",
   "execution_count": null,
   "metadata": {},
   "outputs": [],
   "source": [
    "w = 3.0\n",
    "b = 2.0\n",
    "\n",
    "y_true = w * x + b\n",
    "y_true"
   ]
  },
  {
   "cell_type": "code",
   "execution_count": 5,
   "metadata": {},
   "outputs": [],
   "source": [
    "loss_fn = torch.nn.MSELoss()"
   ]
  },
  {
   "cell_type": "markdown",
   "metadata": {},
   "source": [
    "### Forward pass"
   ]
  },
  {
   "cell_type": "code",
   "execution_count": null,
   "metadata": {},
   "outputs": [],
   "source": [
    "y_pred = model(x)\n",
    "y_pred"
   ]
  },
  {
   "cell_type": "code",
   "execution_count": null,
   "metadata": {},
   "outputs": [],
   "source": [
    "error = loss_fn(y_pred, y_true)\n",
    "error"
   ]
  },
  {
   "cell_type": "code",
   "execution_count": null,
   "metadata": {},
   "outputs": [],
   "source": [
    "# The loss is the mean squared error between the predicted and true values\n",
    "(y_pred - y_true)**2"
   ]
  },
  {
   "cell_type": "markdown",
   "metadata": {},
   "source": [
    "$E = \\left( f(w \\cdot x + b) - y^* \\right)^2$\n",
    "\n",
    "$$\n",
    "\\begin{align}\n",
    "E &= \\left( y - y^* \\right)^2 \\\\\n",
    "y &= f(\\sigma) \\\\\n",
    "\\sigma &= w \\cdot x + b \\\\\n",
    "\\end{align}\n",
    "$$"
   ]
  },
  {
   "cell_type": "markdown",
   "metadata": {},
   "source": [
    "### Backward pass"
   ]
  },
  {
   "cell_type": "code",
   "execution_count": 9,
   "metadata": {},
   "outputs": [],
   "source": [
    "error.backward()"
   ]
  },
  {
   "cell_type": "code",
   "execution_count": null,
   "metadata": {},
   "outputs": [],
   "source": [
    "# Get gradients\n",
    "for name, param in model.named_parameters():\n",
    "    if param.requires_grad:\n",
    "        print(f\"Gradient for {name}: {param.grad}\")"
   ]
  },
  {
   "cell_type": "code",
   "execution_count": null,
   "metadata": {},
   "outputs": [],
   "source": [
    "model.state_dict()"
   ]
  },
  {
   "cell_type": "markdown",
   "metadata": {},
   "source": [
    "### Forward computation of $\\frac{\\partial E}{\\partial w}$"
   ]
  },
  {
   "cell_type": "markdown",
   "metadata": {},
   "source": [
    "#### General case"
   ]
  },
  {
   "cell_type": "markdown",
   "metadata": {},
   "source": [
    "Using the chain rule:\n",
    "\n",
    "$$\n",
    "\\frac{\\partial E}{\\partial w} =\n",
    "\\frac{\\partial E}{\\partial \\color{red}{y}}\n",
    "\\frac{\\partial \\color{red}{y}}{\\partial \\color{green}{\\sigma}} ~\n",
    "\\frac{\\partial \\color{green}{\\sigma}}{\\partial w} ~\n",
    "$$\n",
    "\n",
    "knowing that:\n",
    "\n",
    "$$\n",
    "\\begin{align}\n",
    "\\frac{\\partial E}{\\partial \\color{red}{y}}                     &= 2 (y - y^*) \\\\\n",
    "\\frac{\\partial \\color{red}{y}}{\\partial \\color{green}{\\sigma}} &= f'(\\sigma) \\\\\n",
    "\\frac{\\partial \\color{green}{\\sigma}}{\\partial w}              &= x \\\\\n",
    "\\end{align}\n",
    "$$\n",
    "\n",
    "we can write:\n",
    "\n",
    "$$\n",
    "\\frac{\\partial E}{\\partial w} = 2(y - y^*) \\cdot f'(\\sigma) \\cdot x\n",
    "$$"
   ]
  },
  {
   "cell_type": "markdown",
   "metadata": {},
   "source": [
    "#### Current case (no activation function)"
   ]
  },
  {
   "cell_type": "markdown",
   "metadata": {},
   "source": [
    "Using the chain rule:\n",
    "\n",
    "$$\n",
    "\\frac{\\partial E}{\\partial w} =\n",
    "\\frac{\\partial E}{\\partial \\color{green}{\\sigma}} ~\n",
    "\\frac{\\partial \\color{green}{\\sigma}}{\\partial w} ~\n",
    "$$\n",
    "\n",
    "knowing that:\n",
    "\n",
    "$$\n",
    "\\begin{align}\n",
    "\\frac{\\partial E}{\\partial \\color{green}{\\sigma}} &= 2 (\\sigma - y^*) \\\\\n",
    "\\frac{\\partial \\color{green}{\\sigma}}{\\partial w} &= x \\\\\n",
    "\\end{align}\n",
    "$$\n",
    "\n",
    "we can write:\n",
    "\n",
    "$$\n",
    "\\frac{\\partial E}{\\partial w} = 2(\\sigma - y^*) \\cdot x\n",
    "$$"
   ]
  },
  {
   "cell_type": "markdown",
   "metadata": {},
   "source": [
    "#### Naive detailed computation"
   ]
  },
  {
   "cell_type": "markdown",
   "metadata": {},
   "source": [
    "Let's write the forward computation in a (naive) detailed way."
   ]
  },
  {
   "cell_type": "code",
   "execution_count": null,
   "metadata": {},
   "outputs": [],
   "source": [
    "f = torch.nn.functional.tanh\n",
    "\n",
    "sigma = y_pred\n",
    "\n",
    "grad_w = 2 * (sigma - y_true) * x\n",
    "grad_w"
   ]
  },
  {
   "cell_type": "markdown",
   "metadata": {},
   "source": [
    "#### Algebraic computation"
   ]
  },
  {
   "cell_type": "markdown",
   "metadata": {},
   "source": [
    "Let's rewrite the forward computation in a less naive way (using linear algebra)."
   ]
  },
  {
   "cell_type": "markdown",
   "metadata": {},
   "source": [
    "..."
   ]
  },
  {
   "cell_type": "markdown",
   "metadata": {},
   "source": [
    "### Forward computation of $\\frac{\\partial E}{\\partial b}$"
   ]
  },
  {
   "cell_type": "markdown",
   "metadata": {},
   "source": [
    "#### General case"
   ]
  },
  {
   "cell_type": "markdown",
   "metadata": {},
   "source": [
    "Using the chain rule:\n",
    "\n",
    "$$\n",
    "\\frac{\\partial E}{\\partial b} =\n",
    "\\frac{\\partial E}{\\partial \\color{red}{y}}\n",
    "\\frac{\\partial \\color{red}{y}}{\\partial \\color{green}{\\sigma}} ~\n",
    "\\frac{\\partial \\color{green}{\\sigma}}{\\partial b} ~\n",
    "$$\n",
    "\n",
    "knowing that:\n",
    "\n",
    "$$\n",
    "\\begin{align}\n",
    "\\frac{\\partial E}{\\partial \\color{red}{y}}                     &= 2 (y - y^*) \\\\\n",
    "\\frac{\\partial \\color{red}{y}}{\\partial \\color{green}{\\sigma}} &= f'(\\sigma) \\\\\n",
    "\\frac{\\partial \\color{green}{\\sigma}}{\\partial b}              &= 1 \\\\\n",
    "\\end{align}\n",
    "$$\n",
    "\n",
    "we can write:\n",
    "\n",
    "$$\n",
    "\\frac{\\partial E}{\\partial b} = 2(y - y^*) \\cdot f'(\\sigma)\n",
    "$$"
   ]
  },
  {
   "cell_type": "markdown",
   "metadata": {},
   "source": [
    "#### Current case (no activation function)"
   ]
  },
  {
   "cell_type": "markdown",
   "metadata": {},
   "source": [
    "Using the chain rule:\n",
    "\n",
    "$$\n",
    "\\frac{\\partial E}{\\partial b} =\n",
    "\\frac{\\partial E}{\\partial \\color{green}{\\sigma}} ~\n",
    "\\frac{\\partial \\color{green}{\\sigma}}{\\partial b} ~\n",
    "$$\n",
    "\n",
    "knowing that:\n",
    "\n",
    "$$\n",
    "\\begin{align}\n",
    "\\frac{\\partial E}{\\partial \\color{green}{\\sigma}} &= 2 (\\sigma - y^*) \\\\\n",
    "\\frac{\\partial \\color{green}{\\sigma}}{\\partial b} &= 1 \\\\\n",
    "\\end{align}\n",
    "$$\n",
    "\n",
    "we can write:\n",
    "\n",
    "$$\n",
    "\\frac{\\partial E}{\\partial w} = 2(\\sigma - y^*)\n",
    "$$"
   ]
  },
  {
   "cell_type": "markdown",
   "metadata": {},
   "source": [
    "#### Naive detailed computation"
   ]
  },
  {
   "cell_type": "markdown",
   "metadata": {},
   "source": [
    "Let's write the forward computation in a (naive) detailed way."
   ]
  },
  {
   "cell_type": "code",
   "execution_count": null,
   "metadata": {},
   "outputs": [],
   "source": [
    "f = torch.nn.functional.tanh\n",
    "\n",
    "sigma = y_pred\n",
    "\n",
    "grad_b = 2 * (sigma - y_true)\n",
    "grad_b"
   ]
  },
  {
   "cell_type": "markdown",
   "metadata": {},
   "source": [
    "#### Algebraic computation"
   ]
  },
  {
   "cell_type": "markdown",
   "metadata": {},
   "source": [
    "Let's rewrite the forward computation in a less naive way (using linear algebra)."
   ]
  },
  {
   "cell_type": "markdown",
   "metadata": {},
   "source": [
    "..."
   ]
  },
  {
   "cell_type": "code",
   "execution_count": 13,
   "metadata": {},
   "outputs": [],
   "source": [
    "# f = torch.nn.functional.tanh\n",
    "\n",
    "# h1 = f(x[0] @ model.weight_ih_l0 + h0 @ model.weight_hh_l0)   # hidden state at time step 1\n",
    "# h2 = f(x[1] @ model.weight_ih_l0 + h1 @ model.weight_hh_l0)   # hidden state at time step 2\n",
    "# h3 = f(x[2] @ model.weight_ih_l0 + h2 @ model.weight_hh_l0)   # hidden state at time step 3\n",
    "\n",
    "# print(f\"Output for time step 1:\\nh1 = \\n{ h1 }\\n\\n\")\n",
    "# print(f\"Output for time step 2:\\nh2 = \\n{ h2 }\\n\\n\")\n",
    "# print(f\"Output for time step 3:\\nh3 = \\n{ h3 }\\n\\n\")"
   ]
  }
 ],
 "metadata": {
  "kernelspec": {
   "display_name": "env",
   "language": "python",
   "name": "python3"
  },
  "language_info": {
   "codemirror_mode": {
    "name": "ipython",
    "version": 3
   },
   "file_extension": ".py",
   "mimetype": "text/x-python",
   "name": "python",
   "nbconvert_exporter": "python",
   "pygments_lexer": "ipython3",
   "version": "3.11.2"
  }
 },
 "nbformat": 4,
 "nbformat_minor": 4
}
