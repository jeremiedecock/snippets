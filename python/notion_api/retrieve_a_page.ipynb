{
 "cells": [
  {
   "cell_type": "markdown",
   "metadata": {},
   "source": [
    "Src:\n",
    "- https://developers.notion.com/reference/retrieve-a-page\n",
    "- https://developers.notion.com/docs/getting-started\n",
    "- https://www.youtube.com/watch?v=n8WzcnZYOIM&t=292s"
   ]
  },
  {
   "cell_type": "code",
   "execution_count": null,
   "metadata": {},
   "outputs": [],
   "source": [
    "import requests\n",
    "import json"
   ]
  },
  {
   "cell_type": "code",
   "execution_count": null,
   "metadata": {},
   "outputs": [],
   "source": [
    "with open(\"NOTION_SECRET_TOKEN\", \"r\") as fd:\n",
    "    NOTION_TOKEN = fd.read().strip()\n",
    "\n",
    "with open(\"NOTION_DB_ID\", \"r\") as fd:\n",
    "    NOTION_DB_ID = fd.read().strip()"
   ]
  },
  {
   "cell_type": "code",
   "execution_count": null,
   "metadata": {},
   "outputs": [],
   "source": [
    "REQUEST_URL = f\"https://api.notion.com/v1/databases/{NOTION_DB_ID}\"\n",
    "HEADER_DICT = {\n",
    "    \"Authorization\": f\"Bearer {NOTION_TOKEN}\",\n",
    "    \"Content-Type\": \"application/json\",\n",
    "    \"Notion-Version\": \"2021-08-16\"\n",
    "}"
   ]
  },
  {
   "cell_type": "code",
   "execution_count": null,
   "metadata": {},
   "outputs": [],
   "source": [
    "resp = requests.get(REQUEST_URL, headers=HEADER_DICT)"
   ]
  },
  {
   "cell_type": "code",
   "execution_count": null,
   "metadata": {},
   "outputs": [],
   "source": [
    "resp.json()"
   ]
  }
 ],
 "metadata": {
  "interpreter": {
   "hash": "bd31cd8487689a9ad33c85fc3370c6a2a2b3adb8a0ad6bd7e1b166f185687a55"
  },
  "kernelspec": {
   "display_name": "Python 3.8.10 64-bit ('env': venv)",
   "language": "python",
   "name": "python3"
  },
  "language_info": {
   "codemirror_mode": {
    "name": "ipython",
    "version": 3
   },
   "file_extension": ".py",
   "mimetype": "text/x-python",
   "name": "python",
   "nbconvert_exporter": "python",
   "pygments_lexer": "ipython3",
   "version": "3.8.10"
  },
  "orig_nbformat": 4
 },
 "nbformat": 4,
 "nbformat_minor": 2
}
