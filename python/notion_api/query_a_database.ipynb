{
 "cells": [
  {
   "cell_type": "markdown",
   "metadata": {},
   "source": [
    "Src:\n",
    "- https://developers.notion.com/reference/post-database-query"
   ]
  },
  {
   "cell_type": "code",
   "execution_count": null,
   "metadata": {},
   "outputs": [],
   "source": [
    "import requests\n",
    "import json"
   ]
  },
  {
   "cell_type": "code",
   "execution_count": null,
   "metadata": {},
   "outputs": [],
   "source": [
    "with open(\"NOTION_SECRET_TOKEN\", \"r\") as fd:\n",
    "    NOTION_TOKEN = fd.read().strip()\n",
    "\n",
    "with open(\"NOTION_DB_ID\", \"r\") as fd:\n",
    "    NOTION_DB_ID = fd.read().strip()"
   ]
  },
  {
   "cell_type": "code",
   "execution_count": null,
   "metadata": {},
   "outputs": [],
   "source": [
    "REQUEST_URL = f\"https://api.notion.com/v1/databases/{NOTION_DB_ID}/query\"\n",
    "HEADER_DICT = {\n",
    "    \"Authorization\": f\"Bearer {NOTION_TOKEN}\",\n",
    "    \"Content-Type\": \"application/json\",\n",
    "    \"Notion-Version\": \"2022-02-22\"\n",
    "}\n",
    "\n",
    "DATA_DICT = {\n",
    "    \"page_size\": 100\n",
    "}\n",
    "\n",
    "#    \"filter\": {\n",
    "#        \"or\": [\n",
    "#            {\n",
    "#                \"property\": \"In stock\",\n",
    "#                \"checkbox\": {\n",
    "#                    \"equals\": True\n",
    "#                }\n",
    "#            },\n",
    "#            {\n",
    "#                \"property\": \"Cost of next trip\",\n",
    "#                \"number\": {\n",
    "#                    \"greater_than_or_equal_to\": 2\n",
    "#                }\n",
    "#            }\n",
    "#        ]\n",
    "#    },\n",
    "#    \"sorts\": [\n",
    "#        {\n",
    "#            \"property\": \"Last ordered\",\n",
    "#            \"direction\": \"ascending\"\n",
    "#        }\n",
    "#    ]"
   ]
  },
  {
   "cell_type": "code",
   "execution_count": null,
   "metadata": {},
   "outputs": [],
   "source": [
    "def parse_property(property_dict):\n",
    "\n",
    "    if property_dict[\"type\"] == \"rollup\":\n",
    "        value = set()\n",
    "        for ms in property_dict[\"rollup\"][\"array\"]:\n",
    "            for ms2 in ms[\"multi_select\"]:\n",
    "                value.add(ms2[\"name\"])\n",
    "        value = list(value)\n",
    "\n",
    "    elif property_dict[\"type\"] == \"multi_select\":\n",
    "        value = set()\n",
    "        for ms in property_dict[\"multi_select\"]:\n",
    "            value.add(ms[\"name\"])\n",
    "        value = list(value)\n",
    "\n",
    "    elif property_dict[\"type\"] == \"select\":\n",
    "        value = None\n",
    "        if property_dict[\"select\"] is not None:\n",
    "            value = property_dict[\"select\"][\"name\"]\n",
    "    \n",
    "    elif property_dict[\"type\"] == \"rich_text\":\n",
    "        value = \"\"\n",
    "        for line in property_dict[\"rich_text\"]:\n",
    "            value += line['plain_text']\n",
    "    \n",
    "    elif property_dict[\"type\"] == \"number\":\n",
    "        value =  property_dict[\"number\"]\n",
    "    \n",
    "    elif property_dict[\"type\"] == \"people\":\n",
    "        value = set()\n",
    "        for ms in property_dict[\"people\"]:\n",
    "            value.add(ms[\"name\"])\n",
    "        value = list(value)\n",
    "    \n",
    "    elif property_dict[\"type\"] == \"url\":\n",
    "        value =  property_dict[\"url\"]\n",
    "    \n",
    "    elif property_dict[\"type\"] == \"relation\":\n",
    "        value = set()\n",
    "        for ms in property_dict[\"relation\"]:\n",
    "            page_id = ms[\"id\"]\n",
    "            sub_resp = requests.get(f\"https://api.notion.com/v1/pages/{page_id}\", headers=HEADER_DICT)\n",
    "\n",
    "            for k, v in sub_resp.json()[\"properties\"].items():\n",
    "                if v[\"type\"] == \"title\":\n",
    "                    title = \"\"\n",
    "                    for line in v[\"title\"]:\n",
    "                        title += line['plain_text']\n",
    "                    value.add(title)\n",
    "        value = list(value)\n",
    "    \n",
    "    elif property_dict[\"type\"] == \"title\":\n",
    "        value = \"\"\n",
    "        for line in property_dict[\"title\"]:\n",
    "            value += line['plain_text']\n",
    "\n",
    "    return value"
   ]
  },
  {
   "cell_type": "code",
   "execution_count": null,
   "metadata": {},
   "outputs": [],
   "source": [
    "resp = requests.post(REQUEST_URL, headers=HEADER_DICT, data=json.dumps(DATA_DICT))"
   ]
  },
  {
   "cell_type": "code",
   "execution_count": null,
   "metadata": {},
   "outputs": [],
   "source": [
    "print(json.dumps(resp.json(), sort_keys=False, indent=4))"
   ]
  },
  {
   "cell_type": "code",
   "execution_count": null,
   "metadata": {},
   "outputs": [],
   "source": [
    "for row in resp.json()['results']:\n",
    "    row_dict = {}\n",
    "    for property, property_dict in row[\"properties\"].items():\n",
    "        row_dict[property] = parse_property(property_dict)\n",
    "\n",
    "    print(row_dict)"
   ]
  },
  {
   "cell_type": "code",
   "execution_count": null,
   "metadata": {},
   "outputs": [],
   "source": [
    "#with open(\"db.json\", \"w\") as fd:\n",
    "#    #json.dump(data, fd)                           # no pretty print\n",
    "#    json.dump(issue_list, fd, sort_keys=False, indent=4)  # pretty print format"
   ]
  }
 ],
 "metadata": {
  "interpreter": {
   "hash": "bd31cd8487689a9ad33c85fc3370c6a2a2b3adb8a0ad6bd7e1b166f185687a55"
  },
  "kernelspec": {
   "display_name": "Python 3.8.10 64-bit ('env': venv)",
   "language": "python",
   "name": "python3"
  },
  "language_info": {
   "codemirror_mode": {
    "name": "ipython",
    "version": 3
   },
   "file_extension": ".py",
   "mimetype": "text/x-python",
   "name": "python",
   "nbconvert_exporter": "python",
   "pygments_lexer": "ipython3",
   "version": "3.8.10"
  },
  "orig_nbformat": 4
 },
 "nbformat": 4,
 "nbformat_minor": 2
}
