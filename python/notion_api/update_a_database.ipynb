{
 "cells": [
  {
   "cell_type": "markdown",
   "metadata": {},
   "source": [
    "# Add / remove / change properties (schema)\n",
    "\n",
    "Src:\n",
    "- https://developers.notion.com/reference/update-a-database"
   ]
  },
  {
   "cell_type": "code",
   "execution_count": null,
   "metadata": {},
   "outputs": [],
   "source": [
    "import requests\n",
    "import json"
   ]
  },
  {
   "cell_type": "code",
   "execution_count": null,
   "metadata": {},
   "outputs": [],
   "source": [
    "with open(\"NOTION_SECRET_TOKEN\", \"r\") as fd:\n",
    "    NOTION_TOKEN = fd.read().strip()\n",
    "\n",
    "with open(\"NOTION_DB_ID\", \"r\") as fd:\n",
    "    NOTION_DB_ID = fd.read().strip()"
   ]
  },
  {
   "cell_type": "code",
   "execution_count": null,
   "metadata": {},
   "outputs": [],
   "source": [
    "REQUEST_URL = f\"https://api.notion.com/v1/databases/{NOTION_DB_ID}\"\n",
    "HEADER_DICT = {\n",
    "    \"Authorization\": f\"Bearer {NOTION_TOKEN}\",\n",
    "    \"Content-Type\": \"application/json\",\n",
    "    \"Notion-Version\": \"2022-02-22\"\n",
    "}\n",
    "\n",
    "DATA_DICT = {\n",
    "    # title (array):\n",
    "    # Title of database as it appears in Notion.\n",
    "    # An array of rich text objects.\n",
    "    # If omitted, the database title will remain unchanged.\n",
    "    \"title\": [\n",
    "        {\n",
    "            \"text\": {\n",
    "                \"content\": \"Book Title\"\n",
    "            }\n",
    "        }\n",
    "    ],\n",
    "\n",
    "    # properties (json):\n",
    "    # Updates to the property schema of a database.\n",
    "    # If updating an existing property, the keys are the names or IDs of the properties as they appear in Notion and the values are property schema objects.\n",
    "    # If adding a new property, the key is the name of the database property and the value is a property schema object.\n",
    "    \"properties\": {\n",
    "\n",
    "        # Add or redefine the \"Photo\" property schema\n",
    "        \"Photo\": {\n",
    "            \"url\": {}\n",
    "        },\n",
    "\n",
    "        # Add or redefine the \"Store availability\" property schema\n",
    "        \"Store availability\": {\n",
    "            \"multi_select\": {\n",
    "                \"options\": [\n",
    "                    {\n",
    "                        \"name\": \"Duc Loi Market\"\n",
    "                    },\n",
    "                    {\n",
    "                        \"name\": \"Rainbow Grocery\"\n",
    "                    },\n",
    "                    {\n",
    "                        \"name\": \"Gus'\\''s Community Market\"\n",
    "                    },\n",
    "                    {\n",
    "                        \"name\": \"The Good Life Grocery\",\n",
    "                        \"color\": \"orange\"\n",
    "                    }\n",
    "                ]\n",
    "            }\n",
    "        }\n",
    "    }  \n",
    "}"
   ]
  },
  {
   "cell_type": "code",
   "execution_count": null,
   "metadata": {},
   "outputs": [],
   "source": [
    "resp = requests.patch(REQUEST_URL, headers=HEADER_DICT, data=json.dumps(DATA_DICT))"
   ]
  },
  {
   "cell_type": "code",
   "execution_count": null,
   "metadata": {},
   "outputs": [],
   "source": [
    "print(json.dumps(resp.json(), sort_keys=False, indent=4))"
   ]
  }
 ],
 "metadata": {
  "interpreter": {
   "hash": "bd31cd8487689a9ad33c85fc3370c6a2a2b3adb8a0ad6bd7e1b166f185687a55"
  },
  "kernelspec": {
   "display_name": "Python 3.8.10 64-bit ('env': venv)",
   "language": "python",
   "name": "python3"
  },
  "language_info": {
   "codemirror_mode": {
    "name": "ipython",
    "version": 3
   },
   "file_extension": ".py",
   "mimetype": "text/x-python",
   "name": "python",
   "nbconvert_exporter": "python",
   "pygments_lexer": "ipython3",
   "version": "3.8.10"
  },
  "orig_nbformat": 4
 },
 "nbformat": 4,
 "nbformat_minor": 2
}
