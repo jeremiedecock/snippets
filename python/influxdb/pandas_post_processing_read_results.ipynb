{
 "cells": [
  {
   "cell_type": "code",
   "execution_count": null,
   "id": "b3b1c2c4-3576-4f51-8a37-e643f9cf4ade",
   "metadata": {},
   "outputs": [],
   "source": [
    "import os\n",
    "import pandas as pd\n",
    "import matplotlib.pyplot as plt\n",
    "import seaborn as sns\n",
    "\n",
    "sns.set_context(\"paper\")\n",
    "# Get the list of all \".csv.xz\" files in the current directory\n",
    "file_list = [f for f in os.listdir('.') if f.endswith('.csv.xz')]\n",
    "\n",
    "for filename in file_list:\n",
    "    print(f\"Processing {filename}\")\n",
    "\n",
    "    # Parse filename\n",
    "    basename = filename.split('.')[0]\n",
    "    prefix, year_month, measurement = basename.split('_', maxsplit=2)\n",
    "    year = year_month.split('-')[0]\n",
    "    month = year_month.split('-')[1]\n",
    "\n",
    "    df = pd.read_csv(\n",
    "        f'{prefix}_{year}-{month}_{measurement}.csv.xz',\n",
    "        compression='xz',\n",
    "        header=0,\n",
    "        index_col=0,\n",
    "        parse_dates=[\"time\"]\n",
    "    )\n",
    "\n",
    "    # Save plot to a png file\n",
    "    df.plot(title=f\"{year}-{month} {measurement}\", legend=False, figsize=(16, 8))\n",
    "    plt.show()\n",
    "    plt.clf()\n"
   ]
  }
 ],
 "metadata": {
  "kernelspec": {
   "display_name": "Python 3 (ipykernel)",
   "language": "python",
   "name": "python3"
  },
  "language_info": {
   "codemirror_mode": {
    "name": "ipython",
    "version": 3
   },
   "file_extension": ".py",
   "mimetype": "text/x-python",
   "name": "python",
   "nbconvert_exporter": "python",
   "pygments_lexer": "ipython3",
   "version": "3.11.2"
  }
 },
 "nbformat": 4,
 "nbformat_minor": 5
}
