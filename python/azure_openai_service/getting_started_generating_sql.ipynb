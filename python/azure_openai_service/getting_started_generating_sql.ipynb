{
 "cells": [
  {
   "cell_type": "markdown",
   "id": "08944bf4-4df7-4529-ad4e-a382de537f9d",
   "metadata": {},
   "source": [
    "# Azure OpenAI Service - Explain an SQL request example\n",
    "\n",
    "Documentation: https://learn.microsoft.com/en-us/azure/cognitive-services/openai/quickstart?pivots=programming-language-python&tabs=command-line"
   ]
  },
  {
   "cell_type": "code",
   "execution_count": null,
   "id": "fdce74d1-5c1c-4f1d-bfb5-b6a708947c80",
   "metadata": {},
   "outputs": [],
   "source": [
    "import os\n",
    "import requests\n",
    "import json\n",
    "import openai"
   ]
  },
  {
   "cell_type": "code",
   "execution_count": null,
   "id": "aeb5e275-41b4-4796-a8df-9c46bd21bdcd",
   "metadata": {},
   "outputs": [],
   "source": [
    "from credentials import AZURE_OPENAI_ENDPOINT, AZURE_OPENAI_API_KEY, AZURE_OPENAI_DEPLOYMENT_NAME\n",
    "\n",
    "openai.api_key = AZURE_OPENAI_API_KEY\n",
    "openai.api_base = AZURE_OPENAI_ENDPOINT     # Your endpoint should look like the following https://YOUR_RESOURCE_NAME.openai.azure.com/\n",
    "openai.api_type = 'azure'\n",
    "openai.api_version = '2023-05-15'           # This may change in the future"
   ]
  },
  {
   "cell_type": "markdown",
   "id": "9ed313a3-198c-4b09-9464-9430ef07825b",
   "metadata": {},
   "source": [
    "# Send a completion call to generate an answer"
   ]
  },
  {
   "cell_type": "code",
   "execution_count": null,
   "id": "820e2d25-d61c-48b1-aab0-7e9d90df943c",
   "metadata": {},
   "outputs": [],
   "source": [
    "response = openai.Completion.create(\n",
    "  engine=\"gpt-35-turbo-deployment\",\n",
    "  prompt=\"Explain what the below SQL query does. Also answer why someone might be interested in this time period, and why a company might be interested in this SQL query.\\n\\nDetails: Temperature = 0.8; MaxTokens = 150+; Stop sequences: #\\nSELECT c.customer_id\\nFROM Customers c\\nJOIN Streaming s\\nON c.customer_id = s.customer_id\\nWHERE c.signup_date BETWEEN '2020-03-01' AND '2020-03-31'\\nAND s.watch_date BETWEEN c.signup_date AND DATE_ADD(c.signup_date, INTERVAL 30 DAY)\\nGROUP BY c.customer_id\\nHAVING SUM(s.watch_minutes) > 50 * 60\\n\\nExplanation:\",\n",
    "  temperature=0.7,\n",
    "  max_tokens=250,\n",
    "  top_p=1,\n",
    "  frequency_penalty=0,\n",
    "  presence_penalty=0,\n",
    "  stop=None)\n",
    "\n",
    "response"
   ]
  }
 ],
 "metadata": {
  "kernelspec": {
   "display_name": "Python 3 (ipykernel)",
   "language": "python",
   "name": "python3"
  },
  "language_info": {
   "codemirror_mode": {
    "name": "ipython",
    "version": 3
   },
   "file_extension": ".py",
   "mimetype": "text/x-python",
   "name": "python",
   "nbconvert_exporter": "python",
   "pygments_lexer": "ipython3",
   "version": "3.8.10"
  }
 },
 "nbformat": 4,
 "nbformat_minor": 5
}
