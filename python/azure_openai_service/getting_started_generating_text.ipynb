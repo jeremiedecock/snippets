{
 "cells": [
  {
   "cell_type": "markdown",
   "id": "08944bf4-4df7-4529-ad4e-a382de537f9d",
   "metadata": {},
   "source": [
    "# Azure OpenAI Service - Text generation quickstart\n",
    "\n",
    "Documentation: https://learn.microsoft.com/en-us/azure/cognitive-services/openai/quickstart?pivots=programming-language-python&tabs=command-line"
   ]
  },
  {
   "cell_type": "code",
   "execution_count": null,
   "id": "fdce74d1-5c1c-4f1d-bfb5-b6a708947c80",
   "metadata": {},
   "outputs": [],
   "source": [
    "import os\n",
    "import requests\n",
    "import json\n",
    "import openai"
   ]
  },
  {
   "cell_type": "code",
   "execution_count": null,
   "id": "aeb5e275-41b4-4796-a8df-9c46bd21bdcd",
   "metadata": {},
   "outputs": [],
   "source": [
    "from credentials import AZURE_OPENAI_ENDPOINT, AZURE_OPENAI_API_KEY, AZURE_OPENAI_DEPLOYMENT_NAME\n",
    "\n",
    "openai.api_key = AZURE_OPENAI_API_KEY\n",
    "openai.api_base = AZURE_OPENAI_ENDPOINT     # Your endpoint should look like the following https://YOUR_RESOURCE_NAME.openai.azure.com/\n",
    "openai.api_type = 'azure'\n",
    "openai.api_version = '2023-05-15'           # This may change in the future"
   ]
  },
  {
   "cell_type": "markdown",
   "id": "9ed313a3-198c-4b09-9464-9430ef07825b",
   "metadata": {},
   "source": [
    "# Send a completion call to generate an answer"
   ]
  },
  {
   "cell_type": "code",
   "execution_count": null,
   "id": "d07349c4-ce33-43b9-9a87-95b15bfb6823",
   "metadata": {},
   "outputs": [],
   "source": [
    "start_phrase = 'Write a tagline for an ice cream shop. '\n",
    "#start_phrase = 'Rédige un slogan pour un magasin de glaces. '\n",
    "\n",
    "response = openai.Completion.create(engine=AZURE_OPENAI_DEPLOYMENT_NAME, prompt=start_phrase, max_tokens=10)\n",
    "response"
   ]
  },
  {
   "cell_type": "code",
   "execution_count": null,
   "id": "96ec0479-d5ad-4c52-a263-b94c51cfda1e",
   "metadata": {},
   "outputs": [],
   "source": [
    "text = response['choices'][0]['text'].replace('\\n', '').replace(' .', '.').strip()\n",
    "print(start_phrase + text)"
   ]
  },
  {
   "cell_type": "markdown",
   "id": "b591d38a-2bd8-4b6b-8265-707ac6b2b164",
   "metadata": {},
   "source": [
    "# Another (more convincing) call"
   ]
  },
  {
   "cell_type": "code",
   "execution_count": null,
   "id": "e5d1d148-ca91-46c2-9548-3e32698fc3d9",
   "metadata": {},
   "outputs": [],
   "source": [
    "response = openai.ChatCompletion.create(\n",
    "  engine=\"gpt-35-turbo-deployment\",\n",
    "  messages = [\n",
    "      {\n",
    "          \"role\": \"system\",\n",
    "          \"content\": \"You are an AI assistant that helps people find information.\"\n",
    "      },\n",
    "      {\n",
    "          \"role\": \"user\",\n",
    "          \"content\": \"Write a tagline for an ice cream shop.\"\n",
    "      }\n",
    "  ],\n",
    "  temperature=0.7,\n",
    "  max_tokens=800,\n",
    "  top_p=0.95,\n",
    "  frequency_penalty=0,\n",
    "  presence_penalty=0,\n",
    "  stop=None)\n",
    "\n",
    "response"
   ]
  }
 ],
 "metadata": {
  "kernelspec": {
   "display_name": "Python 3 (ipykernel)",
   "language": "python",
   "name": "python3"
  },
  "language_info": {
   "codemirror_mode": {
    "name": "ipython",
    "version": 3
   },
   "file_extension": ".py",
   "mimetype": "text/x-python",
   "name": "python",
   "nbconvert_exporter": "python",
   "pygments_lexer": "ipython3",
   "version": "3.8.10"
  }
 },
 "nbformat": 4,
 "nbformat_minor": 5
}
